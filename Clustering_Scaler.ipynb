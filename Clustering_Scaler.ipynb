{
 "cells": [
  {
   "attachments": {},
   "cell_type": "markdown",
   "metadata": {
    "id": "8ScpHLjWM48s"
   },
   "source": [
    "## Problem Statement\n",
    "\n",
    "XXXXXXX company is an online tech-versity offering intensive computer science & Data Science courses through live classes delivered by tech leaders and subject matter experts. The meticulously structured program enhances the skills of software professionals by offering a modern curriculum with exposure to the latest technologies. It is a product by InterviewBit.\n",
    "\n",
    "You are working as a data scientist with the analytics vertical of xxxxx Comapny , focused on profiling the best companies and job positions to work for from the company  database. You are provided with the information for a segment of learners and tasked to cluster them on the basis of their job profile, company, and other features. Ideally, these clusters should have similar characteristics."
   ]
  },
  {
   "attachments": {},
   "cell_type": "markdown",
   "metadata": {
    "id": "67yC2aOwM5Cb"
   },
   "source": [
    "\n",
    "\n",
    "Data Dictionary:\n",
    "\n",
    "    ‘Unnamed 0’- Index of the dataset\n",
    "    Email_hash- Anonymised Personal Identifiable Information (PII)\n",
    "    Company_hash- Current employer of the learner\n",
    "    orgyear- Employment start date\n",
    "    CTC- Current CTC\n",
    "    Job_position- Job profile in the company\n",
    "    CTC_updated_year: Year in which CTC got updated (Yearly increments, Promotions)\n",
    "\n",
    "\n"
   ]
  },
  {
   "cell_type": "code",
   "execution_count": 3,
   "metadata": {
    "id": "5GWpxZBmMJ2w"
   },
   "outputs": [],
   "source": [
    "import pandas as pd\n",
    "import numpy as np\n",
    "import seaborn as sns\n",
    "\n",
    "import matplotlib.pyplot as plt\n",
    "import regex as re"
   ]
  },
  {
   "cell_type": "code",
   "execution_count": 4,
   "metadata": {},
   "outputs": [],
   "source": [
    "df = pd.read_csv(\"D:\\DSML\\Datasets\\scaler_clustering.csv\")"
   ]
  },
  {
   "cell_type": "code",
   "execution_count": 5,
   "metadata": {
    "colab": {
     "base_uri": "https://localhost:8080/",
     "height": 206
    },
    "id": "LWoYB_ceM3qG",
    "outputId": "aae4078f-a9e6-4de6-fe26-9121bdc72299"
   },
   "outputs": [
    {
     "data": {
      "text/html": [
       "<div>\n",
       "<style scoped>\n",
       "    .dataframe tbody tr th:only-of-type {\n",
       "        vertical-align: middle;\n",
       "    }\n",
       "\n",
       "    .dataframe tbody tr th {\n",
       "        vertical-align: top;\n",
       "    }\n",
       "\n",
       "    .dataframe thead th {\n",
       "        text-align: right;\n",
       "    }\n",
       "</style>\n",
       "<table border=\"1\" class=\"dataframe\">\n",
       "  <thead>\n",
       "    <tr style=\"text-align: right;\">\n",
       "      <th></th>\n",
       "      <th>Unnamed: 0</th>\n",
       "      <th>company_hash</th>\n",
       "      <th>email_hash</th>\n",
       "      <th>orgyear</th>\n",
       "      <th>ctc</th>\n",
       "      <th>job_position</th>\n",
       "      <th>ctc_updated_year</th>\n",
       "    </tr>\n",
       "  </thead>\n",
       "  <tbody>\n",
       "    <tr>\n",
       "      <th>0</th>\n",
       "      <td>0</td>\n",
       "      <td>atrgxnnt xzaxv</td>\n",
       "      <td>6de0a4417d18ab14334c3f43397fc13b30c35149d70c05...</td>\n",
       "      <td>2016.0</td>\n",
       "      <td>1100000</td>\n",
       "      <td>Other</td>\n",
       "      <td>2020.0</td>\n",
       "    </tr>\n",
       "    <tr>\n",
       "      <th>1</th>\n",
       "      <td>1</td>\n",
       "      <td>qtrxvzwt xzegwgbb rxbxnta</td>\n",
       "      <td>b0aaf1ac138b53cb6e039ba2c3d6604a250d02d5145c10...</td>\n",
       "      <td>2018.0</td>\n",
       "      <td>449999</td>\n",
       "      <td>FullStack Engineer</td>\n",
       "      <td>2019.0</td>\n",
       "    </tr>\n",
       "    <tr>\n",
       "      <th>2</th>\n",
       "      <td>2</td>\n",
       "      <td>ojzwnvwnxw vx</td>\n",
       "      <td>4860c670bcd48fb96c02a4b0ae3608ae6fdd98176112e9...</td>\n",
       "      <td>2015.0</td>\n",
       "      <td>2000000</td>\n",
       "      <td>Backend Engineer</td>\n",
       "      <td>2020.0</td>\n",
       "    </tr>\n",
       "    <tr>\n",
       "      <th>3</th>\n",
       "      <td>3</td>\n",
       "      <td>ngpgutaxv</td>\n",
       "      <td>effdede7a2e7c2af664c8a31d9346385016128d66bbc58...</td>\n",
       "      <td>2017.0</td>\n",
       "      <td>700000</td>\n",
       "      <td>Backend Engineer</td>\n",
       "      <td>2019.0</td>\n",
       "    </tr>\n",
       "    <tr>\n",
       "      <th>4</th>\n",
       "      <td>4</td>\n",
       "      <td>qxen sqghu</td>\n",
       "      <td>6ff54e709262f55cb999a1c1db8436cb2055d8f79ab520...</td>\n",
       "      <td>2017.0</td>\n",
       "      <td>1400000</td>\n",
       "      <td>FullStack Engineer</td>\n",
       "      <td>2019.0</td>\n",
       "    </tr>\n",
       "  </tbody>\n",
       "</table>\n",
       "</div>"
      ],
      "text/plain": [
       "   Unnamed: 0               company_hash  \\\n",
       "0           0             atrgxnnt xzaxv   \n",
       "1           1  qtrxvzwt xzegwgbb rxbxnta   \n",
       "2           2              ojzwnvwnxw vx   \n",
       "3           3                  ngpgutaxv   \n",
       "4           4                 qxen sqghu   \n",
       "\n",
       "                                          email_hash  orgyear      ctc  \\\n",
       "0  6de0a4417d18ab14334c3f43397fc13b30c35149d70c05...   2016.0  1100000   \n",
       "1  b0aaf1ac138b53cb6e039ba2c3d6604a250d02d5145c10...   2018.0   449999   \n",
       "2  4860c670bcd48fb96c02a4b0ae3608ae6fdd98176112e9...   2015.0  2000000   \n",
       "3  effdede7a2e7c2af664c8a31d9346385016128d66bbc58...   2017.0   700000   \n",
       "4  6ff54e709262f55cb999a1c1db8436cb2055d8f79ab520...   2017.0  1400000   \n",
       "\n",
       "         job_position  ctc_updated_year  \n",
       "0               Other            2020.0  \n",
       "1  FullStack Engineer            2019.0  \n",
       "2    Backend Engineer            2020.0  \n",
       "3    Backend Engineer            2019.0  \n",
       "4  FullStack Engineer            2019.0  "
      ]
     },
     "execution_count": 5,
     "metadata": {},
     "output_type": "execute_result"
    }
   ],
   "source": [
    "df.head()"
   ]
  },
  {
   "cell_type": "code",
   "execution_count": 6,
   "metadata": {
    "colab": {
     "base_uri": "https://localhost:8080/"
    },
    "id": "Rl8rnoRFTkqf",
    "outputId": "4b4777bf-90eb-4291-90f2-4b6ac3a45f90"
   },
   "outputs": [
    {
     "data": {
      "text/plain": [
       "(205843, 7)"
      ]
     },
     "execution_count": 6,
     "metadata": {},
     "output_type": "execute_result"
    }
   ],
   "source": [
    "df.shape"
   ]
  },
  {
   "cell_type": "code",
   "execution_count": 7,
   "metadata": {
    "colab": {
     "base_uri": "https://localhost:8080/"
    },
    "id": "mIvXfh-bTaD-",
    "outputId": "9da182e5-51ee-4137-cc0e-84558c0fa281"
   },
   "outputs": [
    {
     "name": "stdout",
     "output_type": "stream",
     "text": [
      "<class 'pandas.core.frame.DataFrame'>\n",
      "RangeIndex: 205843 entries, 0 to 205842\n",
      "Data columns (total 7 columns):\n",
      " #   Column            Non-Null Count   Dtype  \n",
      "---  ------            --------------   -----  \n",
      " 0   Unnamed: 0        205843 non-null  int64  \n",
      " 1   company_hash      205799 non-null  object \n",
      " 2   email_hash        205843 non-null  object \n",
      " 3   orgyear           205757 non-null  float64\n",
      " 4   ctc               205843 non-null  int64  \n",
      " 5   job_position      153281 non-null  object \n",
      " 6   ctc_updated_year  205843 non-null  float64\n",
      "dtypes: float64(2), int64(2), object(3)\n",
      "memory usage: 11.0+ MB\n"
     ]
    }
   ],
   "source": [
    "df.info()"
   ]
  },
  {
   "cell_type": "code",
   "execution_count": 8,
   "metadata": {},
   "outputs": [],
   "source": [
    "### There is no need of columns "
   ]
  },
  {
   "cell_type": "code",
   "execution_count": 9,
   "metadata": {
    "colab": {
     "base_uri": "https://localhost:8080/"
    },
    "id": "q2L1b3pkTZi5",
    "outputId": "09690326-e965-423b-f3fa-871fbde4865f"
   },
   "outputs": [
    {
     "data": {
      "text/plain": [
       "bbace3cc586400bbc65765bc6a16b77d8913836cfc98b77c05488f02f5714a4b    10\n",
       "6842660273f70e9aa239026ba33bfe82275d6ab0d20124021b952b5bc3d07e6c     9\n",
       "298528ce3160cc761e4dc37a07337ee2e0589df251d73645aae209b010210eee     9\n",
       "3e5e49daa5527a6d5a33599b238bf9bf31e85b9efa9a94f1c88c5e15a6f31378     9\n",
       "b4d5afa09bec8689017d8b29701b80d664ca37b83cb883376b2e95191320da66     8\n",
       "                                                                    ..\n",
       "bb2fe5e655ada7f7b7ac4a614db0b9c560e796bdfcaa4e5367e69eedfea93876     1\n",
       "d6cdef97e759dbf1b7522babccbbbd5f164a75d1b4139e02c945958720f1ed79     1\n",
       "700d1190c17aaa3f2dd9070e47a4c042ecd9205333545dbfaee0f85644d00306     1\n",
       "c2a1c9e4b9f4e1ed7d889ee4560102c1e2235b2c1a0e59cea95a6fe55c658407     1\n",
       "0bcfc1d05f2e8dc4147743a1313aa70a119b41b30d4a1f7e738a6a87d3712c31     1\n",
       "Name: email_hash, Length: 153443, dtype: int64"
      ]
     },
     "execution_count": 9,
     "metadata": {},
     "output_type": "execute_result"
    }
   ],
   "source": [
    "df[\"email_hash\"].value_counts()"
   ]
  },
  {
   "attachments": {},
   "cell_type": "markdown",
   "metadata": {
    "id": "0zcyKMc-W_wC"
   },
   "source": [
    "Observation\n",
    "\n",
    "There are quite a lot of duplicate values of emails, these probably are repeat entries\n",
    "\n",
    "we will drop these entries from data"
   ]
  },
  {
   "cell_type": "code",
   "execution_count": 10,
   "metadata": {},
   "outputs": [
    {
     "data": {
      "text/plain": [
       "0                      Other\n",
       "1         FullStack Engineer\n",
       "2           Backend Engineer\n",
       "3           Backend Engineer\n",
       "4         FullStack Engineer\n",
       "                 ...        \n",
       "205838                   NaN\n",
       "205839                   NaN\n",
       "205840                   NaN\n",
       "205841                   NaN\n",
       "205842                   NaN\n",
       "Name: job_position, Length: 205843, dtype: object"
      ]
     },
     "execution_count": 10,
     "metadata": {},
     "output_type": "execute_result"
    }
   ],
   "source": [
    "df.job_position"
   ]
  },
  {
   "cell_type": "code",
   "execution_count": 11,
   "metadata": {
    "id": "n_DA2wAFRSMv"
   },
   "outputs": [],
   "source": [
    "df = df.drop_duplicates(subset=['email_hash'], keep='last')"
   ]
  },
  {
   "cell_type": "code",
   "execution_count": 12,
   "metadata": {
    "colab": {
     "base_uri": "https://localhost:8080/"
    },
    "id": "SU9ne1LFzbSy",
    "outputId": "eaeeb3d3-4937-4f3b-ada7-ef0b37edc901"
   },
   "outputs": [
    {
     "data": {
      "text/plain": [
       "(153443, 7)"
      ]
     },
     "execution_count": 12,
     "metadata": {},
     "output_type": "execute_result"
    }
   ],
   "source": [
    "df.shape"
   ]
  },
  {
   "cell_type": "code",
   "execution_count": 13,
   "metadata": {
    "colab": {
     "base_uri": "https://localhost:8080/",
     "height": 206
    },
    "id": "DCMzbAX3uKar",
    "outputId": "17581f15-b1e3-466d-990b-51801bcf7c9e"
   },
   "outputs": [
    {
     "data": {
      "text/html": [
       "<div>\n",
       "<style scoped>\n",
       "    .dataframe tbody tr th:only-of-type {\n",
       "        vertical-align: middle;\n",
       "    }\n",
       "\n",
       "    .dataframe tbody tr th {\n",
       "        vertical-align: top;\n",
       "    }\n",
       "\n",
       "    .dataframe thead th {\n",
       "        text-align: right;\n",
       "    }\n",
       "</style>\n",
       "<table border=\"1\" class=\"dataframe\">\n",
       "  <thead>\n",
       "    <tr style=\"text-align: right;\">\n",
       "      <th></th>\n",
       "      <th>Unnamed: 0</th>\n",
       "      <th>company_hash</th>\n",
       "      <th>email_hash</th>\n",
       "      <th>orgyear</th>\n",
       "      <th>ctc</th>\n",
       "      <th>job_position</th>\n",
       "      <th>ctc_updated_year</th>\n",
       "    </tr>\n",
       "  </thead>\n",
       "  <tbody>\n",
       "    <tr>\n",
       "      <th>3</th>\n",
       "      <td>3</td>\n",
       "      <td>ngpgutaxv</td>\n",
       "      <td>effdede7a2e7c2af664c8a31d9346385016128d66bbc58...</td>\n",
       "      <td>2017.0</td>\n",
       "      <td>700000</td>\n",
       "      <td>Backend Engineer</td>\n",
       "      <td>2019.0</td>\n",
       "    </tr>\n",
       "    <tr>\n",
       "      <th>7</th>\n",
       "      <td>7</td>\n",
       "      <td>vwwtznhqt ntwyzgrgsj</td>\n",
       "      <td>756d35a7f6bb8ffeaffc8fcca9ddbb78e7450fa0de2be0...</td>\n",
       "      <td>2019.0</td>\n",
       "      <td>400000</td>\n",
       "      <td>Backend Engineer</td>\n",
       "      <td>2019.0</td>\n",
       "    </tr>\n",
       "    <tr>\n",
       "      <th>9</th>\n",
       "      <td>9</td>\n",
       "      <td>xrbhd</td>\n",
       "      <td>b2dc928f4c22a9860b4a427efb8ab761e1ce0015fba1a5...</td>\n",
       "      <td>2019.0</td>\n",
       "      <td>360000</td>\n",
       "      <td>NaN</td>\n",
       "      <td>2019.0</td>\n",
       "    </tr>\n",
       "    <tr>\n",
       "      <th>13</th>\n",
       "      <td>13</td>\n",
       "      <td>wgszxkvzn</td>\n",
       "      <td>134cc4a76a119493d523f1855a3b7106f64287455d5cd4...</td>\n",
       "      <td>2016.0</td>\n",
       "      <td>440000</td>\n",
       "      <td>Data Analyst</td>\n",
       "      <td>2020.0</td>\n",
       "    </tr>\n",
       "    <tr>\n",
       "      <th>14</th>\n",
       "      <td>14</td>\n",
       "      <td>xznhxn</td>\n",
       "      <td>ebcaf397ef5084e05889a6e9a0c3f96a5c8fb0b16749ce...</td>\n",
       "      <td>2016.0</td>\n",
       "      <td>440000</td>\n",
       "      <td>Backend Engineer</td>\n",
       "      <td>2019.0</td>\n",
       "    </tr>\n",
       "  </tbody>\n",
       "</table>\n",
       "</div>"
      ],
      "text/plain": [
       "    Unnamed: 0          company_hash  \\\n",
       "3            3             ngpgutaxv   \n",
       "7            7  vwwtznhqt ntwyzgrgsj   \n",
       "9            9                 xrbhd   \n",
       "13          13             wgszxkvzn   \n",
       "14          14                xznhxn   \n",
       "\n",
       "                                           email_hash  orgyear     ctc  \\\n",
       "3   effdede7a2e7c2af664c8a31d9346385016128d66bbc58...   2017.0  700000   \n",
       "7   756d35a7f6bb8ffeaffc8fcca9ddbb78e7450fa0de2be0...   2019.0  400000   \n",
       "9   b2dc928f4c22a9860b4a427efb8ab761e1ce0015fba1a5...   2019.0  360000   \n",
       "13  134cc4a76a119493d523f1855a3b7106f64287455d5cd4...   2016.0  440000   \n",
       "14  ebcaf397ef5084e05889a6e9a0c3f96a5c8fb0b16749ce...   2016.0  440000   \n",
       "\n",
       "        job_position  ctc_updated_year  \n",
       "3   Backend Engineer            2019.0  \n",
       "7   Backend Engineer            2019.0  \n",
       "9                NaN            2019.0  \n",
       "13      Data Analyst            2020.0  \n",
       "14  Backend Engineer            2019.0  "
      ]
     },
     "execution_count": 13,
     "metadata": {},
     "output_type": "execute_result"
    }
   ],
   "source": [
    "df.head()"
   ]
  },
  {
   "cell_type": "code",
   "execution_count": 14,
   "metadata": {
    "colab": {
     "base_uri": "https://localhost:8080/"
    },
    "id": "CGkB_sX8zcsi",
    "outputId": "97e79947-cd5b-492b-e9e4-ee7609e66b33"
   },
   "outputs": [
    {
     "data": {
      "text/plain": [
       "effdede7a2e7c2af664c8a31d9346385016128d66bbc58a44274d5d6876dfec7    1\n",
       "d8e8d73114617d98f7b647d6a2943983564978c3999509d98d6d5142714c7958    1\n",
       "0a2c6b808187b21a9ab6b27f2365dc315cd4f64c5c908f12e387303a340dbd9a    1\n",
       "77e5e9c3b29bef911b71f1ec28753029aad23172f0f6fb5ffdbfb47e086f9148    1\n",
       "9ec7bc44fb8497e552087e27b3f264773c11f91e67a615d17be2a6112dad8743    1\n",
       "                                                                   ..\n",
       "a92418070ae61c6a53ac35b2f5748e95a0a7e5ee823cee3f4f3cf5ce82702bf8    1\n",
       "65a8bb70616d56b0c8a57c229716cee6e8ee9bd690cc26203693858175313449    1\n",
       "2b166c2eefe21566e54403538a39e65851cfdd64a51a3bdf1f48476d0a5ce11e    1\n",
       "28992538aebfd55c662be0ef06c7a5ec32d85de4e260ef12ddddcf43066d6e29    1\n",
       "0bcfc1d05f2e8dc4147743a1313aa70a119b41b30d4a1f7e738a6a87d3712c31    1\n",
       "Name: email_hash, Length: 153443, dtype: int64"
      ]
     },
     "execution_count": 14,
     "metadata": {},
     "output_type": "execute_result"
    }
   ],
   "source": [
    " df['email_hash'].value_counts()"
   ]
  },
  {
   "cell_type": "code",
   "execution_count": 15,
   "metadata": {
    "colab": {
     "base_uri": "https://localhost:8080/"
    },
    "id": "MVI8wua8zjfx",
    "outputId": "95d35052-baf7-483d-f58a-3fa8c18271af"
   },
   "outputs": [
    {
     "data": {
      "text/plain": [
       "Unnamed: 0              0\n",
       "company_hash           34\n",
       "email_hash              0\n",
       "orgyear                79\n",
       "ctc                     0\n",
       "job_position        34189\n",
       "ctc_updated_year        0\n",
       "dtype: int64"
      ]
     },
     "execution_count": 15,
     "metadata": {},
     "output_type": "execute_result"
    }
   ],
   "source": [
    "df.isna().sum()"
   ]
  },
  {
   "attachments": {},
   "cell_type": "markdown",
   "metadata": {
    "id": "31ONZAjpACYC"
   },
   "source": [
    "### Using a text cleaning regex function for job position column"
   ]
  },
  {
   "cell_type": "code",
   "execution_count": 16,
   "metadata": {
    "id": "lj-CxSdaACbU"
   },
   "outputs": [
    {
     "data": {
      "text/plain": [
       "'airtel x labs'"
      ]
     },
     "execution_count": 16,
     "metadata": {},
     "output_type": "execute_result"
    }
   ],
   "source": [
    "def preprocess_string(string):\n",
    "    new_string= re.sub('[^A-Za-z ]+', '', string).lower().strip()\n",
    "    return new_string\n",
    "    \n",
    "mystring='\\tAirtel\\\\\\\\&&**() X Labs'\n",
    "preprocess_string(mystring)"
   ]
  },
  {
   "cell_type": "code",
   "execution_count": 17,
   "metadata": {
    "id": "tADInkLaACeI"
   },
   "outputs": [
    {
     "data": {
      "text/plain": [
       "652"
      ]
     },
     "execution_count": 17,
     "metadata": {},
     "output_type": "execute_result"
    }
   ],
   "source": [
    "df[\"job_position\"].nunique()"
   ]
  },
  {
   "cell_type": "code",
   "execution_count": 18,
   "metadata": {},
   "outputs": [
    {
     "data": {
      "text/plain": [
       "557"
      ]
     },
     "execution_count": 18,
     "metadata": {},
     "output_type": "execute_result"
    }
   ],
   "source": [
    "df[\"job_position\"] = df[\"job_position\"].apply(lambda x: preprocess_string(str(x)))\n",
    "df[\"job_position\"].nunique()"
   ]
  },
  {
   "cell_type": "code",
   "execution_count": 19,
   "metadata": {},
   "outputs": [
    {
     "data": {
      "text/plain": [
       "(153443, 7)"
      ]
     },
     "execution_count": 19,
     "metadata": {},
     "output_type": "execute_result"
    }
   ],
   "source": [
    "df.shape"
   ]
  },
  {
   "cell_type": "code",
   "execution_count": 20,
   "metadata": {},
   "outputs": [
    {
     "data": {
      "text/plain": [
       "0                                    1\n",
       "0000                                 1\n",
       "01 ojztqsj                           2\n",
       "05mz exzytvrny uqxcvnt rxbxnta       1\n",
       "1                                    2\n",
       "                                    ..\n",
       "zyvzwt fgga qtztfvr eqvzwyxogq yi    1\n",
       "zyvzwt wgzohrnxzs tzsxzttqo          1\n",
       "zz                                   2\n",
       "zzb ztdnstz vacxogqj ucn rna         1\n",
       "zzgato                               1\n",
       "Name: company_hash, Length: 36365, dtype: int64"
      ]
     },
     "execution_count": 20,
     "metadata": {},
     "output_type": "execute_result"
    }
   ],
   "source": [
    "\n",
    "df['company_hash'].value_counts().sort_index()"
   ]
  },
  {
   "cell_type": "code",
   "execution_count": null,
   "metadata": {},
   "outputs": [],
   "source": []
  },
  {
   "cell_type": "code",
   "execution_count": 21,
   "metadata": {
    "colab": {
     "base_uri": "https://localhost:8080/"
    },
    "id": "OTi8JAlmPni9",
    "outputId": "44f4f70b-655c-4a90-ff18-b2a69f8516fd"
   },
   "outputs": [
    {
     "data": {
      "text/plain": [
       "Unnamed: 0          0.000000\n",
       "company_hash        0.022158\n",
       "email_hash          0.000000\n",
       "orgyear             0.051485\n",
       "ctc                 0.000000\n",
       "job_position        0.000000\n",
       "ctc_updated_year    0.000000\n",
       "dtype: float64"
      ]
     },
     "execution_count": 21,
     "metadata": {},
     "output_type": "execute_result"
    }
   ],
   "source": [
    "df.isna().sum() * 100/len(df)"
   ]
  },
  {
   "cell_type": "code",
   "execution_count": null,
   "metadata": {
    "id": "BePRxkZnUIDb"
   },
   "outputs": [],
   "source": []
  },
  {
   "attachments": {},
   "cell_type": "markdown",
   "metadata": {
    "id": "VvCu1tJSUNBt"
   },
   "source": [
    "### Observation \n",
    "\n",
    "we will only impute the org year col as the other cols have very less percent of nulls we will drop those cols"
   ]
  },
  {
   "cell_type": "code",
   "execution_count": 22,
   "metadata": {},
   "outputs": [
    {
     "data": {
      "text/plain": [
       "Unnamed: 0           0\n",
       "company_hash        34\n",
       "email_hash           0\n",
       "orgyear             79\n",
       "ctc                  0\n",
       "job_position         0\n",
       "ctc_updated_year     0\n",
       "dtype: int64"
      ]
     },
     "execution_count": 22,
     "metadata": {},
     "output_type": "execute_result"
    }
   ],
   "source": [
    "df.isna().sum()"
   ]
  },
  {
   "attachments": {},
   "cell_type": "markdown",
   "metadata": {
    "id": "sXehmdMNv--o"
   },
   "source": [
    "### Assigning appropriate values to missing data\n",
    "\n"
   ]
  },
  {
   "attachments": {},
   "cell_type": "markdown",
   "metadata": {},
   "source": [
    "### Filling Null values using Mean Target Inputation for Orgyear"
   ]
  },
  {
   "cell_type": "code",
   "execution_count": 23,
   "metadata": {},
   "outputs": [],
   "source": [
    "#We see some 'nan's in job_position \n",
    "df.loc[df['job_position']=='nan', 'job_position']=np.nan"
   ]
  },
  {
   "cell_type": "code",
   "execution_count": 24,
   "metadata": {},
   "outputs": [],
   "source": [
    "## filling nan values with others\n",
    "df['job_position'] = df['job_position'].fillna('Others')\n",
    "df['company_hash'] = df['company_hash'].fillna('Others')"
   ]
  },
  {
   "cell_type": "code",
   "execution_count": 25,
   "metadata": {},
   "outputs": [
    {
     "data": {
      "text/plain": [
       "3         backend engineer\n",
       "7         backend engineer\n",
       "9                   Others\n",
       "13            data analyst\n",
       "14        backend engineer\n",
       "                ...       \n",
       "205838              Others\n",
       "205839              Others\n",
       "205840              Others\n",
       "205841              Others\n",
       "205842              Others\n",
       "Name: job_position, Length: 153443, dtype: object"
      ]
     },
     "execution_count": 25,
     "metadata": {},
     "output_type": "execute_result"
    }
   ],
   "source": [
    "df.job_position"
   ]
  },
  {
   "cell_type": "code",
   "execution_count": 26,
   "metadata": {},
   "outputs": [],
   "source": [
    "df['orgyear'].fillna(df.groupby('company_hash')['orgyear'].transform('median'), inplace=True)"
   ]
  },
  {
   "cell_type": "code",
   "execution_count": 27,
   "metadata": {},
   "outputs": [],
   "source": [
    "df = df.loc[~df['orgyear'].isna()]"
   ]
  },
  {
   "cell_type": "code",
   "execution_count": 28,
   "metadata": {},
   "outputs": [
    {
     "data": {
      "text/plain": [
       "Unnamed: 0          0\n",
       "company_hash        0\n",
       "email_hash          0\n",
       "orgyear             0\n",
       "ctc                 0\n",
       "job_position        0\n",
       "ctc_updated_year    0\n",
       "dtype: int64"
      ]
     },
     "execution_count": 28,
     "metadata": {},
     "output_type": "execute_result"
    }
   ],
   "source": [
    "df.isna().sum()"
   ]
  },
  {
   "cell_type": "code",
   "execution_count": 29,
   "metadata": {},
   "outputs": [],
   "source": [
    "df.dropna(subset=['company_hash'], inplace=True)"
   ]
  },
  {
   "cell_type": "code",
   "execution_count": 30,
   "metadata": {},
   "outputs": [
    {
     "data": {
      "text/plain": [
       "Unnamed: 0          0\n",
       "company_hash        0\n",
       "email_hash          0\n",
       "orgyear             0\n",
       "ctc                 0\n",
       "job_position        0\n",
       "ctc_updated_year    0\n",
       "dtype: int64"
      ]
     },
     "execution_count": 30,
     "metadata": {},
     "output_type": "execute_result"
    }
   ],
   "source": [
    "df.isna().sum()"
   ]
  },
  {
   "cell_type": "code",
   "execution_count": 31,
   "metadata": {},
   "outputs": [
    {
     "data": {
      "text/plain": [
       "3         backend engineer\n",
       "7         backend engineer\n",
       "9                   Others\n",
       "13            data analyst\n",
       "14        backend engineer\n",
       "                ...       \n",
       "205838              Others\n",
       "205839              Others\n",
       "205840              Others\n",
       "205841              Others\n",
       "205842              Others\n",
       "Name: job_position, Length: 153418, dtype: object"
      ]
     },
     "execution_count": 31,
     "metadata": {},
     "output_type": "execute_result"
    }
   ],
   "source": [
    "df.job_position"
   ]
  },
  {
   "attachments": {},
   "cell_type": "markdown",
   "metadata": {},
   "source": [
    "#### Creating a new feature of no of year of experience\n",
    "\n",
    "Before creating new feature we need to see outliers and remove it"
   ]
  },
  {
   "cell_type": "code",
   "execution_count": 32,
   "metadata": {},
   "outputs": [
    {
     "data": {
      "text/plain": [
       "<AxesSubplot:>"
      ]
     },
     "execution_count": 32,
     "metadata": {},
     "output_type": "execute_result"
    },
    {
     "data": {
      "image/png": "[encoded data removed]",
      "text/plain": [
       "<Figure size 432x288 with 1 Axes>"
      ]
     },
     "metadata": {
      "needs_background": "light"
     },
     "output_type": "display_data"
    }
   ],
   "source": [
    "df[\"orgyear\"].hist(bins=10)"
   ]
  },
  {
   "cell_type": "code",
   "execution_count": 33,
   "metadata": {},
   "outputs": [
    {
     "data": {
      "text/plain": [
       "<AxesSubplot:xlabel='ctc', ylabel='Count'>"
      ]
     },
     "execution_count": 33,
     "metadata": {},
     "output_type": "execute_result"
    },
    {
     "data": {
      "image/png": "[encoded data removed]",
      "text/plain": [
       "<Figure size 432x288 with 1 Axes>"
      ]
     },
     "metadata": {
      "needs_background": "light"
     },
     "output_type": "display_data"
    }
   ],
   "source": [
    "sns.histplot(data = df, x = \"ctc\", kde = True)"
   ]
  },
  {
   "cell_type": "code",
   "execution_count": 59,
   "metadata": {},
   "outputs": [],
   "source": [
    "df['orgyear'] = df['orgyear'].clip(lower=df.orgyear.quantile(0.01), upper=df.orgyear.quantile(0.99))\n",
    "df['ctc'] = df['ctc'].clip(lower=df.ctc.quantile(0.02), upper=df.ctc.quantile(0.98))"
   ]
  },
  {
   "cell_type": "code",
   "execution_count": 60,
   "metadata": {},
   "outputs": [
    {
     "data": {
      "text/plain": [
       "(153418, 6)"
      ]
     },
     "execution_count": 60,
     "metadata": {},
     "output_type": "execute_result"
    }
   ],
   "source": [
    "df.shape"
   ]
  },
  {
   "cell_type": "code",
   "execution_count": 61,
   "metadata": {},
   "outputs": [
    {
     "data": {
      "text/plain": [
       "count    153418.000000\n",
       "mean       2014.838832\n",
       "std           4.209035\n",
       "min        2000.000000\n",
       "25%        2013.000000\n",
       "50%        2016.000000\n",
       "75%        2018.000000\n",
       "max        2021.000000\n",
       "Name: orgyear, dtype: float64"
      ]
     },
     "execution_count": 61,
     "metadata": {},
     "output_type": "execute_result"
    }
   ],
   "source": [
    "df[\"orgyear\"].describe()"
   ]
  },
  {
   "cell_type": "code",
   "execution_count": 62,
   "metadata": {},
   "outputs": [],
   "source": [
    "## Now we have the max year as 2021 unlike before 20165"
   ]
  },
  {
   "cell_type": "code",
   "execution_count": 63,
   "metadata": {},
   "outputs": [],
   "source": [
    "## getting the no of years of Experience with respect to 2022\n",
    "df['yrs_exp']=2022-df['orgyear']"
   ]
  },
  {
   "cell_type": "code",
   "execution_count": 64,
   "metadata": {},
   "outputs": [],
   "source": [
    "# update cant be before joining\n",
    "df['ctc_updated_year'] = df[['ctc_updated_year', 'orgyear']].max(axis=1)"
   ]
  },
  {
   "cell_type": "code",
   "execution_count": null,
   "metadata": {},
   "outputs": [],
   "source": []
  },
  {
   "attachments": {},
   "cell_type": "markdown",
   "metadata": {},
   "source": [
    "Grouping Companies named others where the count is less than 5"
   ]
  },
  {
   "cell_type": "code",
   "execution_count": 65,
   "metadata": {},
   "outputs": [
    {
     "data": {
      "text/plain": [
       "Others                       42040\n",
       "nvnv wgzohrnvzwj otqcxwto     5336\n",
       "xzegojo                       3526\n",
       "vbvkgz                        2440\n",
       "wgszxkvzn                     2199\n",
       "                             ...  \n",
       "zvnfton sqghu                    5\n",
       "ntlvo pghzaxzjv                  5\n",
       "zxrr                             5\n",
       "ofxenwy                          5\n",
       "fxuqg                            5\n",
       "Name: company_hash, Length: 2963, dtype: int64"
      ]
     },
     "execution_count": 65,
     "metadata": {},
     "output_type": "execute_result"
    }
   ],
   "source": [
    "df[\"company_hash\"].value_counts()"
   ]
  },
  {
   "cell_type": "code",
   "execution_count": 66,
   "metadata": {},
   "outputs": [],
   "source": [
    "df.loc[df.groupby('company_hash')['ctc'].transform('count') < 5, 'company_hash'] = 'Others'"
   ]
  },
  {
   "cell_type": "code",
   "execution_count": 67,
   "metadata": {},
   "outputs": [
    {
     "data": {
      "text/html": [
       "<div>\n",
       "<style scoped>\n",
       "    .dataframe tbody tr th:only-of-type {\n",
       "        vertical-align: middle;\n",
       "    }\n",
       "\n",
       "    .dataframe tbody tr th {\n",
       "        vertical-align: top;\n",
       "    }\n",
       "\n",
       "    .dataframe thead th {\n",
       "        text-align: right;\n",
       "    }\n",
       "</style>\n",
       "<table border=\"1\" class=\"dataframe\">\n",
       "  <thead>\n",
       "    <tr style=\"text-align: right;\">\n",
       "      <th></th>\n",
       "      <th>company_hash</th>\n",
       "      <th>orgyear</th>\n",
       "      <th>ctc</th>\n",
       "      <th>job_position</th>\n",
       "      <th>ctc_updated_year</th>\n",
       "      <th>yrs_exp</th>\n",
       "    </tr>\n",
       "  </thead>\n",
       "  <tbody>\n",
       "    <tr>\n",
       "      <th>count</th>\n",
       "      <td>153418</td>\n",
       "      <td>153418.000000</td>\n",
       "      <td>1.534180e+05</td>\n",
       "      <td>153418</td>\n",
       "      <td>153418.000000</td>\n",
       "      <td>153418.000000</td>\n",
       "    </tr>\n",
       "    <tr>\n",
       "      <th>unique</th>\n",
       "      <td>2963</td>\n",
       "      <td>NaN</td>\n",
       "      <td>NaN</td>\n",
       "      <td>557</td>\n",
       "      <td>NaN</td>\n",
       "      <td>NaN</td>\n",
       "    </tr>\n",
       "    <tr>\n",
       "      <th>top</th>\n",
       "      <td>Others</td>\n",
       "      <td>NaN</td>\n",
       "      <td>NaN</td>\n",
       "      <td>Others</td>\n",
       "      <td>NaN</td>\n",
       "      <td>NaN</td>\n",
       "    </tr>\n",
       "    <tr>\n",
       "      <th>freq</th>\n",
       "      <td>42040</td>\n",
       "      <td>NaN</td>\n",
       "      <td>NaN</td>\n",
       "      <td>34185</td>\n",
       "      <td>NaN</td>\n",
       "      <td>NaN</td>\n",
       "    </tr>\n",
       "    <tr>\n",
       "      <th>mean</th>\n",
       "      <td>NaN</td>\n",
       "      <td>2014.838832</td>\n",
       "      <td>1.368333e+06</td>\n",
       "      <td>NaN</td>\n",
       "      <td>2019.477473</td>\n",
       "      <td>7.161168</td>\n",
       "    </tr>\n",
       "    <tr>\n",
       "      <th>std</th>\n",
       "      <td>NaN</td>\n",
       "      <td>4.209035</td>\n",
       "      <td>1.310615e+06</td>\n",
       "      <td>NaN</td>\n",
       "      <td>1.310497</td>\n",
       "      <td>4.209035</td>\n",
       "    </tr>\n",
       "    <tr>\n",
       "      <th>min</th>\n",
       "      <td>NaN</td>\n",
       "      <td>2000.000000</td>\n",
       "      <td>8.000000e+04</td>\n",
       "      <td>NaN</td>\n",
       "      <td>2015.000000</td>\n",
       "      <td>1.000000</td>\n",
       "    </tr>\n",
       "    <tr>\n",
       "      <th>25%</th>\n",
       "      <td>NaN</td>\n",
       "      <td>2013.000000</td>\n",
       "      <td>5.500000e+05</td>\n",
       "      <td>NaN</td>\n",
       "      <td>2019.000000</td>\n",
       "      <td>4.000000</td>\n",
       "    </tr>\n",
       "    <tr>\n",
       "      <th>50%</th>\n",
       "      <td>NaN</td>\n",
       "      <td>2016.000000</td>\n",
       "      <td>9.500000e+05</td>\n",
       "      <td>NaN</td>\n",
       "      <td>2019.000000</td>\n",
       "      <td>6.000000</td>\n",
       "    </tr>\n",
       "    <tr>\n",
       "      <th>75%</th>\n",
       "      <td>NaN</td>\n",
       "      <td>2018.000000</td>\n",
       "      <td>1.700000e+06</td>\n",
       "      <td>NaN</td>\n",
       "      <td>2021.000000</td>\n",
       "      <td>9.000000</td>\n",
       "    </tr>\n",
       "    <tr>\n",
       "      <th>max</th>\n",
       "      <td>NaN</td>\n",
       "      <td>2021.000000</td>\n",
       "      <td>7.000000e+06</td>\n",
       "      <td>NaN</td>\n",
       "      <td>2021.000000</td>\n",
       "      <td>22.000000</td>\n",
       "    </tr>\n",
       "  </tbody>\n",
       "</table>\n",
       "</div>"
      ],
      "text/plain": [
       "       company_hash        orgyear           ctc job_position  \\\n",
       "count        153418  153418.000000  1.534180e+05       153418   \n",
       "unique         2963            NaN           NaN          557   \n",
       "top          Others            NaN           NaN       Others   \n",
       "freq          42040            NaN           NaN        34185   \n",
       "mean            NaN    2014.838832  1.368333e+06          NaN   \n",
       "std             NaN       4.209035  1.310615e+06          NaN   \n",
       "min             NaN    2000.000000  8.000000e+04          NaN   \n",
       "25%             NaN    2013.000000  5.500000e+05          NaN   \n",
       "50%             NaN    2016.000000  9.500000e+05          NaN   \n",
       "75%             NaN    2018.000000  1.700000e+06          NaN   \n",
       "max             NaN    2021.000000  7.000000e+06          NaN   \n",
       "\n",
       "        ctc_updated_year        yrs_exp  \n",
       "count      153418.000000  153418.000000  \n",
       "unique               NaN            NaN  \n",
       "top                  NaN            NaN  \n",
       "freq                 NaN            NaN  \n",
       "mean         2019.477473       7.161168  \n",
       "std             1.310497       4.209035  \n",
       "min          2015.000000       1.000000  \n",
       "25%          2019.000000       4.000000  \n",
       "50%          2019.000000       6.000000  \n",
       "75%          2021.000000       9.000000  \n",
       "max          2021.000000      22.000000  "
      ]
     },
     "execution_count": 67,
     "metadata": {},
     "output_type": "execute_result"
    }
   ],
   "source": [
    "df.describe(include=\"all\")"
   ]
  },
  {
   "attachments": {},
   "cell_type": "markdown",
   "metadata": {},
   "source": [
    "\n",
    "\n",
    "### we do not need columns unnamed and email_hash\n",
    "\n",
    "dropping them"
   ]
  },
  {
   "cell_type": "code",
   "execution_count": null,
   "metadata": {},
   "outputs": [],
   "source": [
    "df = df.drop([\"Unnamed: 0\", \"email_hash\" ], axis = 1)"
   ]
  },
  {
   "cell_type": "code",
   "execution_count": 70,
   "metadata": {},
   "outputs": [
    {
     "data": {
      "text/html": [
       "<div>\n",
       "<style scoped>\n",
       "    .dataframe tbody tr th:only-of-type {\n",
       "        vertical-align: middle;\n",
       "    }\n",
       "\n",
       "    .dataframe tbody tr th {\n",
       "        vertical-align: top;\n",
       "    }\n",
       "\n",
       "    .dataframe thead th {\n",
       "        text-align: right;\n",
       "    }\n",
       "</style>\n",
       "<table border=\"1\" class=\"dataframe\">\n",
       "  <thead>\n",
       "    <tr style=\"text-align: right;\">\n",
       "      <th></th>\n",
       "      <th>company_hash</th>\n",
       "      <th>orgyear</th>\n",
       "      <th>ctc</th>\n",
       "      <th>job_position</th>\n",
       "      <th>ctc_updated_year</th>\n",
       "      <th>yrs_exp</th>\n",
       "    </tr>\n",
       "  </thead>\n",
       "  <tbody>\n",
       "    <tr>\n",
       "      <th>count</th>\n",
       "      <td>153418</td>\n",
       "      <td>153418.000000</td>\n",
       "      <td>1.534180e+05</td>\n",
       "      <td>153418</td>\n",
       "      <td>153418.000000</td>\n",
       "      <td>153418.000000</td>\n",
       "    </tr>\n",
       "    <tr>\n",
       "      <th>unique</th>\n",
       "      <td>2963</td>\n",
       "      <td>NaN</td>\n",
       "      <td>NaN</td>\n",
       "      <td>557</td>\n",
       "      <td>NaN</td>\n",
       "      <td>NaN</td>\n",
       "    </tr>\n",
       "    <tr>\n",
       "      <th>top</th>\n",
       "      <td>Others</td>\n",
       "      <td>NaN</td>\n",
       "      <td>NaN</td>\n",
       "      <td>Others</td>\n",
       "      <td>NaN</td>\n",
       "      <td>NaN</td>\n",
       "    </tr>\n",
       "    <tr>\n",
       "      <th>freq</th>\n",
       "      <td>42040</td>\n",
       "      <td>NaN</td>\n",
       "      <td>NaN</td>\n",
       "      <td>34185</td>\n",
       "      <td>NaN</td>\n",
       "      <td>NaN</td>\n",
       "    </tr>\n",
       "    <tr>\n",
       "      <th>mean</th>\n",
       "      <td>NaN</td>\n",
       "      <td>2014.838832</td>\n",
       "      <td>1.368333e+06</td>\n",
       "      <td>NaN</td>\n",
       "      <td>2019.477473</td>\n",
       "      <td>7.161168</td>\n",
       "    </tr>\n",
       "    <tr>\n",
       "      <th>std</th>\n",
       "      <td>NaN</td>\n",
       "      <td>4.209035</td>\n",
       "      <td>1.310615e+06</td>\n",
       "      <td>NaN</td>\n",
       "      <td>1.310497</td>\n",
       "      <td>4.209035</td>\n",
       "    </tr>\n",
       "    <tr>\n",
       "      <th>min</th>\n",
       "      <td>NaN</td>\n",
       "      <td>2000.000000</td>\n",
       "      <td>8.000000e+04</td>\n",
       "      <td>NaN</td>\n",
       "      <td>2015.000000</td>\n",
       "      <td>1.000000</td>\n",
       "    </tr>\n",
       "    <tr>\n",
       "      <th>25%</th>\n",
       "      <td>NaN</td>\n",
       "      <td>2013.000000</td>\n",
       "      <td>5.500000e+05</td>\n",
       "      <td>NaN</td>\n",
       "      <td>2019.000000</td>\n",
       "      <td>4.000000</td>\n",
       "    </tr>\n",
       "    <tr>\n",
       "      <th>50%</th>\n",
       "      <td>NaN</td>\n",
       "      <td>2016.000000</td>\n",
       "      <td>9.500000e+05</td>\n",
       "      <td>NaN</td>\n",
       "      <td>2019.000000</td>\n",
       "      <td>6.000000</td>\n",
       "    </tr>\n",
       "    <tr>\n",
       "      <th>75%</th>\n",
       "      <td>NaN</td>\n",
       "      <td>2018.000000</td>\n",
       "      <td>1.700000e+06</td>\n",
       "      <td>NaN</td>\n",
       "      <td>2021.000000</td>\n",
       "      <td>9.000000</td>\n",
       "    </tr>\n",
       "    <tr>\n",
       "      <th>max</th>\n",
       "      <td>NaN</td>\n",
       "      <td>2021.000000</td>\n",
       "      <td>7.000000e+06</td>\n",
       "      <td>NaN</td>\n",
       "      <td>2021.000000</td>\n",
       "      <td>22.000000</td>\n",
       "    </tr>\n",
       "  </tbody>\n",
       "</table>\n",
       "</div>"
      ],
      "text/plain": [
       "       company_hash        orgyear           ctc job_position  \\\n",
       "count        153418  153418.000000  1.534180e+05       153418   \n",
       "unique         2963            NaN           NaN          557   \n",
       "top          Others            NaN           NaN       Others   \n",
       "freq          42040            NaN           NaN        34185   \n",
       "mean            NaN    2014.838832  1.368333e+06          NaN   \n",
       "std             NaN       4.209035  1.310615e+06          NaN   \n",
       "min             NaN    2000.000000  8.000000e+04          NaN   \n",
       "25%             NaN    2013.000000  5.500000e+05          NaN   \n",
       "50%             NaN    2016.000000  9.500000e+05          NaN   \n",
       "75%             NaN    2018.000000  1.700000e+06          NaN   \n",
       "max             NaN    2021.000000  7.000000e+06          NaN   \n",
       "\n",
       "        ctc_updated_year        yrs_exp  \n",
       "count      153418.000000  153418.000000  \n",
       "unique               NaN            NaN  \n",
       "top                  NaN            NaN  \n",
       "freq                 NaN            NaN  \n",
       "mean         2019.477473       7.161168  \n",
       "std             1.310497       4.209035  \n",
       "min          2015.000000       1.000000  \n",
       "25%          2019.000000       4.000000  \n",
       "50%          2019.000000       6.000000  \n",
       "75%          2021.000000       9.000000  \n",
       "max          2021.000000      22.000000  "
      ]
     },
     "execution_count": 70,
     "metadata": {},
     "output_type": "execute_result"
    }
   ],
   "source": [
    "df.describe(include=\"all\")"
   ]
  },
  {
   "cell_type": "code",
   "execution_count": 71,
   "metadata": {},
   "outputs": [
    {
     "data": {
      "text/plain": [
       "(153418, 6)"
      ]
     },
     "execution_count": 71,
     "metadata": {},
     "output_type": "execute_result"
    }
   ],
   "source": [
    "df.shape"
   ]
  },
  {
   "cell_type": "code",
   "execution_count": 72,
   "metadata": {},
   "outputs": [
    {
     "data": {
      "text/html": [
       "<div>\n",
       "<style scoped>\n",
       "    .dataframe tbody tr th:only-of-type {\n",
       "        vertical-align: middle;\n",
       "    }\n",
       "\n",
       "    .dataframe tbody tr th {\n",
       "        vertical-align: top;\n",
       "    }\n",
       "\n",
       "    .dataframe thead th {\n",
       "        text-align: right;\n",
       "    }\n",
       "</style>\n",
       "<table border=\"1\" class=\"dataframe\">\n",
       "  <thead>\n",
       "    <tr style=\"text-align: right;\">\n",
       "      <th></th>\n",
       "      <th>company_hash</th>\n",
       "      <th>orgyear</th>\n",
       "      <th>ctc</th>\n",
       "      <th>job_position</th>\n",
       "      <th>ctc_updated_year</th>\n",
       "      <th>yrs_exp</th>\n",
       "    </tr>\n",
       "  </thead>\n",
       "  <tbody>\n",
       "    <tr>\n",
       "      <th>3</th>\n",
       "      <td>ngpgutaxv</td>\n",
       "      <td>2017.0</td>\n",
       "      <td>700000.0</td>\n",
       "      <td>backend engineer</td>\n",
       "      <td>2019.0</td>\n",
       "      <td>5.0</td>\n",
       "    </tr>\n",
       "    <tr>\n",
       "      <th>7</th>\n",
       "      <td>vwwtznhqt ntwyzgrgsj</td>\n",
       "      <td>2019.0</td>\n",
       "      <td>400000.0</td>\n",
       "      <td>backend engineer</td>\n",
       "      <td>2019.0</td>\n",
       "      <td>3.0</td>\n",
       "    </tr>\n",
       "    <tr>\n",
       "      <th>9</th>\n",
       "      <td>Others</td>\n",
       "      <td>2019.0</td>\n",
       "      <td>360000.0</td>\n",
       "      <td>Others</td>\n",
       "      <td>2019.0</td>\n",
       "      <td>3.0</td>\n",
       "    </tr>\n",
       "    <tr>\n",
       "      <th>13</th>\n",
       "      <td>wgszxkvzn</td>\n",
       "      <td>2016.0</td>\n",
       "      <td>440000.0</td>\n",
       "      <td>data analyst</td>\n",
       "      <td>2020.0</td>\n",
       "      <td>6.0</td>\n",
       "    </tr>\n",
       "    <tr>\n",
       "      <th>14</th>\n",
       "      <td>xznhxn</td>\n",
       "      <td>2016.0</td>\n",
       "      <td>440000.0</td>\n",
       "      <td>backend engineer</td>\n",
       "      <td>2019.0</td>\n",
       "      <td>6.0</td>\n",
       "    </tr>\n",
       "    <tr>\n",
       "      <th>...</th>\n",
       "      <td>...</td>\n",
       "      <td>...</td>\n",
       "      <td>...</td>\n",
       "      <td>...</td>\n",
       "      <td>...</td>\n",
       "      <td>...</td>\n",
       "    </tr>\n",
       "    <tr>\n",
       "      <th>205838</th>\n",
       "      <td>vuurt xzw</td>\n",
       "      <td>2008.0</td>\n",
       "      <td>220000.0</td>\n",
       "      <td>Others</td>\n",
       "      <td>2019.0</td>\n",
       "      <td>14.0</td>\n",
       "    </tr>\n",
       "    <tr>\n",
       "      <th>205839</th>\n",
       "      <td>husqvawgb</td>\n",
       "      <td>2017.0</td>\n",
       "      <td>500000.0</td>\n",
       "      <td>Others</td>\n",
       "      <td>2020.0</td>\n",
       "      <td>5.0</td>\n",
       "    </tr>\n",
       "    <tr>\n",
       "      <th>205840</th>\n",
       "      <td>vwwgrxnt</td>\n",
       "      <td>2021.0</td>\n",
       "      <td>700000.0</td>\n",
       "      <td>Others</td>\n",
       "      <td>2021.0</td>\n",
       "      <td>1.0</td>\n",
       "    </tr>\n",
       "    <tr>\n",
       "      <th>205841</th>\n",
       "      <td>zgn vuurxwvmrt</td>\n",
       "      <td>2019.0</td>\n",
       "      <td>5100000.0</td>\n",
       "      <td>Others</td>\n",
       "      <td>2019.0</td>\n",
       "      <td>3.0</td>\n",
       "    </tr>\n",
       "    <tr>\n",
       "      <th>205842</th>\n",
       "      <td>bgqsvz onvzrtj</td>\n",
       "      <td>2014.0</td>\n",
       "      <td>1240000.0</td>\n",
       "      <td>Others</td>\n",
       "      <td>2016.0</td>\n",
       "      <td>8.0</td>\n",
       "    </tr>\n",
       "  </tbody>\n",
       "</table>\n",
       "<p>153418 rows × 6 columns</p>\n",
       "</div>"
      ],
      "text/plain": [
       "                company_hash  orgyear        ctc      job_position  \\\n",
       "3                  ngpgutaxv   2017.0   700000.0  backend engineer   \n",
       "7       vwwtznhqt ntwyzgrgsj   2019.0   400000.0  backend engineer   \n",
       "9                     Others   2019.0   360000.0            Others   \n",
       "13                 wgszxkvzn   2016.0   440000.0      data analyst   \n",
       "14                    xznhxn   2016.0   440000.0  backend engineer   \n",
       "...                      ...      ...        ...               ...   \n",
       "205838             vuurt xzw   2008.0   220000.0            Others   \n",
       "205839             husqvawgb   2017.0   500000.0            Others   \n",
       "205840              vwwgrxnt   2021.0   700000.0            Others   \n",
       "205841        zgn vuurxwvmrt   2019.0  5100000.0            Others   \n",
       "205842        bgqsvz onvzrtj   2014.0  1240000.0            Others   \n",
       "\n",
       "        ctc_updated_year  yrs_exp  \n",
       "3                 2019.0      5.0  \n",
       "7                 2019.0      3.0  \n",
       "9                 2019.0      3.0  \n",
       "13                2020.0      6.0  \n",
       "14                2019.0      6.0  \n",
       "...                  ...      ...  \n",
       "205838            2019.0     14.0  \n",
       "205839            2020.0      5.0  \n",
       "205840            2021.0      1.0  \n",
       "205841            2019.0      3.0  \n",
       "205842            2016.0      8.0  \n",
       "\n",
       "[153418 rows x 6 columns]"
      ]
     },
     "execution_count": 72,
     "metadata": {},
     "output_type": "execute_result"
    }
   ],
   "source": [
    "df"
   ]
  },
  {
   "attachments": {},
   "cell_type": "markdown",
   "metadata": {},
   "source": [
    "### EDA"
   ]
  },
  {
   "cell_type": "code",
   "execution_count": 47,
   "metadata": {},
   "outputs": [
    {
     "data": {
      "text/plain": [
       "<AxesSubplot:xlabel='yrs_exp', ylabel='Count'>"
      ]
     },
     "execution_count": 47,
     "metadata": {},
     "output_type": "execute_result"
    },
    {
     "data": {
      "image/png": "[encoded data removed]",
      "text/plain": [
       "<Figure size 432x288 with 1 Axes>"
      ]
     },
     "metadata": {
      "needs_background": "light"
     },
     "output_type": "display_data"
    }
   ],
   "source": [
    "sns.histplot(data = df, x = 'yrs_exp')"
   ]
  },
  {
   "cell_type": "code",
   "execution_count": 49,
   "metadata": {},
   "outputs": [
    {
     "data": {
      "text/plain": [
       "<AxesSubplot:xlabel='ctc', ylabel='Count'>"
      ]
     },
     "execution_count": 49,
     "metadata": {},
     "output_type": "execute_result"
    },
    {
     "data": {
      "image/png": "[encoded data removed]",
      "text/plain": [
       "<Figure size 576x360 with 1 Axes>"
      ]
     },
     "metadata": {
      "needs_background": "light"
     },
     "output_type": "display_data"
    }
   ],
   "source": [
    "plt.figure(figsize=(8,5))\n",
    "\n",
    "sns.histplot(data = df, x = 'ctc', kde = True)"
   ]
  },
  {
   "cell_type": "code",
   "execution_count": 52,
   "metadata": {},
   "outputs": [
    {
     "data": {
      "image/png": "[encoded data removed]",
      "text/plain": [
       "<Figure size 2160x432 with 1 Axes>"
      ]
     },
     "metadata": {
      "needs_background": "light"
     },
     "output_type": "display_data"
    }
   ],
   "source": [
    "plt.figure(figsize=(30,6))\n",
    "ax = sns.countplot(data = df, \n",
    "              x = 'job_position', \n",
    "              order = df['job_position'].value_counts().index[:11], linewidth=0.5)\n",
    "ax.bar_label(ax.containers[0])\n",
    "plt.title('Job Position - Top 10')\n",
    "plt.show()"
   ]
  },
  {
   "cell_type": "code",
   "execution_count": null,
   "metadata": {},
   "outputs": [],
   "source": [
    "orgyear"
   ]
  },
  {
   "cell_type": "code",
   "execution_count": 56,
   "metadata": {},
   "outputs": [
    {
     "data": {
      "text/plain": [
       "<AxesSubplot:xlabel='orgyear', ylabel='Count'>"
      ]
     },
     "execution_count": 56,
     "metadata": {},
     "output_type": "execute_result"
    },
    {
     "data": {
      "image/png": "[encoded data removed]",
      "text/plain": [
       "<Figure size 576x360 with 1 Axes>"
      ]
     },
     "metadata": {
      "needs_background": "light"
     },
     "output_type": "display_data"
    }
   ],
   "source": [
    "plt.figure(figsize=(8,5))\n",
    "\n",
    "sns.histplot(data = df, x = 'orgyear')"
   ]
  },
  {
   "cell_type": "code",
   "execution_count": 73,
   "metadata": {},
   "outputs": [
    {
     "data": {
      "text/plain": [
       "<AxesSubplot:xlabel='ctc'>"
      ]
     },
     "execution_count": 73,
     "metadata": {},
     "output_type": "execute_result"
    },
    {
     "data": {
      "image/png": "[encoded data removed]",
      "text/plain": [
       "<Figure size 432x288 with 1 Axes>"
      ]
     },
     "metadata": {
      "needs_background": "light"
     },
     "output_type": "display_data"
    }
   ],
   "source": [
    "sns.boxplot(data = df, x = 'ctc')"
   ]
  },
  {
   "cell_type": "code",
   "execution_count": 50,
   "metadata": {},
   "outputs": [
    {
     "data": {
      "text/html": [
       "<div>\n",
       "<style scoped>\n",
       "    .dataframe tbody tr th:only-of-type {\n",
       "        vertical-align: middle;\n",
       "    }\n",
       "\n",
       "    .dataframe tbody tr th {\n",
       "        vertical-align: top;\n",
       "    }\n",
       "\n",
       "    .dataframe thead th {\n",
       "        text-align: right;\n",
       "    }\n",
       "</style>\n",
       "<table border=\"1\" class=\"dataframe\">\n",
       "  <thead>\n",
       "    <tr style=\"text-align: right;\">\n",
       "      <th></th>\n",
       "      <th>orgyear</th>\n",
       "      <th>ctc</th>\n",
       "      <th>ctc_updated_year</th>\n",
       "      <th>yrs_exp</th>\n",
       "    </tr>\n",
       "  </thead>\n",
       "  <tbody>\n",
       "    <tr>\n",
       "      <th>count</th>\n",
       "      <td>153418.000000</td>\n",
       "      <td>1.534180e+05</td>\n",
       "      <td>153418.000000</td>\n",
       "      <td>153418.000000</td>\n",
       "    </tr>\n",
       "    <tr>\n",
       "      <th>mean</th>\n",
       "      <td>2014.838832</td>\n",
       "      <td>1.572169e+06</td>\n",
       "      <td>2019.477473</td>\n",
       "      <td>7.161168</td>\n",
       "    </tr>\n",
       "    <tr>\n",
       "      <th>std</th>\n",
       "      <td>4.209035</td>\n",
       "      <td>2.669356e+06</td>\n",
       "      <td>1.310497</td>\n",
       "      <td>4.209035</td>\n",
       "    </tr>\n",
       "    <tr>\n",
       "      <th>min</th>\n",
       "      <td>2000.000000</td>\n",
       "      <td>3.500000e+04</td>\n",
       "      <td>2015.000000</td>\n",
       "      <td>1.000000</td>\n",
       "    </tr>\n",
       "    <tr>\n",
       "      <th>25%</th>\n",
       "      <td>2013.000000</td>\n",
       "      <td>5.500000e+05</td>\n",
       "      <td>2019.000000</td>\n",
       "      <td>4.000000</td>\n",
       "    </tr>\n",
       "    <tr>\n",
       "      <th>50%</th>\n",
       "      <td>2016.000000</td>\n",
       "      <td>9.500000e+05</td>\n",
       "      <td>2019.000000</td>\n",
       "      <td>6.000000</td>\n",
       "    </tr>\n",
       "    <tr>\n",
       "      <th>75%</th>\n",
       "      <td>2018.000000</td>\n",
       "      <td>1.700000e+06</td>\n",
       "      <td>2021.000000</td>\n",
       "      <td>9.000000</td>\n",
       "    </tr>\n",
       "    <tr>\n",
       "      <th>max</th>\n",
       "      <td>2021.000000</td>\n",
       "      <td>2.400000e+07</td>\n",
       "      <td>2021.000000</td>\n",
       "      <td>22.000000</td>\n",
       "    </tr>\n",
       "  </tbody>\n",
       "</table>\n",
       "</div>"
      ],
      "text/plain": [
       "             orgyear           ctc  ctc_updated_year        yrs_exp\n",
       "count  153418.000000  1.534180e+05     153418.000000  153418.000000\n",
       "mean     2014.838832  1.572169e+06       2019.477473       7.161168\n",
       "std         4.209035  2.669356e+06          1.310497       4.209035\n",
       "min      2000.000000  3.500000e+04       2015.000000       1.000000\n",
       "25%      2013.000000  5.500000e+05       2019.000000       4.000000\n",
       "50%      2016.000000  9.500000e+05       2019.000000       6.000000\n",
       "75%      2018.000000  1.700000e+06       2021.000000       9.000000\n",
       "max      2021.000000  2.400000e+07       2021.000000      22.000000"
      ]
     },
     "execution_count": 50,
     "metadata": {},
     "output_type": "execute_result"
    }
   ],
   "source": [
    "df.describe()"
   ]
  },
  {
   "attachments": {},
   "cell_type": "markdown",
   "metadata": {},
   "source": [
    "#### Observation\n",
    "\n",
    "> Backend, fulllstack, frontend are some of the most frequent job lists\n",
    "\n",
    "> Majority of people have 8 or less years of experience\n",
    "\n",
    "> Mean ctc is 1368333 and median ctc is 950000 and valeus a very skewed"
   ]
  },
  {
   "cell_type": "code",
   "execution_count": null,
   "metadata": {},
   "outputs": [],
   "source": []
  },
  {
   "cell_type": "code",
   "execution_count": null,
   "metadata": {},
   "outputs": [],
   "source": []
  },
  {
   "cell_type": "code",
   "execution_count": null,
   "metadata": {},
   "outputs": [],
   "source": []
  },
  {
   "cell_type": "code",
   "execution_count": null,
   "metadata": {},
   "outputs": [],
   "source": []
  },
  {
   "attachments": {},
   "cell_type": "markdown",
   "metadata": {},
   "source": [
    "### Manual Clustering"
   ]
  },
  {
   "cell_type": "code",
   "execution_count": 102,
   "metadata": {},
   "outputs": [
    {
     "data": {
      "text/html": [
       "<div>\n",
       "<style scoped>\n",
       "    .dataframe tbody tr th:only-of-type {\n",
       "        vertical-align: middle;\n",
       "    }\n",
       "\n",
       "    .dataframe tbody tr th {\n",
       "        vertical-align: top;\n",
       "    }\n",
       "\n",
       "    .dataframe thead th {\n",
       "        text-align: right;\n",
       "    }\n",
       "</style>\n",
       "<table border=\"1\" class=\"dataframe\">\n",
       "  <thead>\n",
       "    <tr style=\"text-align: right;\">\n",
       "      <th></th>\n",
       "      <th></th>\n",
       "      <th></th>\n",
       "      <th>count</th>\n",
       "      <th>mean</th>\n",
       "      <th>std</th>\n",
       "      <th>min</th>\n",
       "      <th>25%</th>\n",
       "      <th>50%</th>\n",
       "      <th>75%</th>\n",
       "      <th>max</th>\n",
       "    </tr>\n",
       "    <tr>\n",
       "      <th>yrs_exp</th>\n",
       "      <th>job_position</th>\n",
       "      <th>company_hash</th>\n",
       "      <th></th>\n",
       "      <th></th>\n",
       "      <th></th>\n",
       "      <th></th>\n",
       "      <th></th>\n",
       "      <th></th>\n",
       "      <th></th>\n",
       "      <th></th>\n",
       "    </tr>\n",
       "  </thead>\n",
       "  <tbody>\n",
       "    <tr>\n",
       "      <th rowspan=\"5\" valign=\"top\">1.0</th>\n",
       "      <th></th>\n",
       "      <th>Others</th>\n",
       "      <td>1.0</td>\n",
       "      <td>4.500000e+05</td>\n",
       "      <td>NaN</td>\n",
       "      <td>450000.0</td>\n",
       "      <td>450000.0</td>\n",
       "      <td>450000.0</td>\n",
       "      <td>450000.0</td>\n",
       "      <td>450000.0</td>\n",
       "    </tr>\n",
       "    <tr>\n",
       "      <th rowspan=\"4\" valign=\"top\">Others</th>\n",
       "      <th>Others</th>\n",
       "      <td>224.0</td>\n",
       "      <td>1.405647e+06</td>\n",
       "      <td>1.864368e+06</td>\n",
       "      <td>80000.0</td>\n",
       "      <td>360000.0</td>\n",
       "      <td>700000.0</td>\n",
       "      <td>1402500.0</td>\n",
       "      <td>7000000.0</td>\n",
       "    </tr>\n",
       "    <tr>\n",
       "      <th>adw ntwyzgrgsj</th>\n",
       "      <td>1.0</td>\n",
       "      <td>3.600000e+05</td>\n",
       "      <td>NaN</td>\n",
       "      <td>360000.0</td>\n",
       "      <td>360000.0</td>\n",
       "      <td>360000.0</td>\n",
       "      <td>360000.0</td>\n",
       "      <td>360000.0</td>\n",
       "    </tr>\n",
       "    <tr>\n",
       "      <th>athnowyt ntrtpgb</th>\n",
       "      <td>1.0</td>\n",
       "      <td>2.800000e+06</td>\n",
       "      <td>NaN</td>\n",
       "      <td>2800000.0</td>\n",
       "      <td>2800000.0</td>\n",
       "      <td>2800000.0</td>\n",
       "      <td>2800000.0</td>\n",
       "      <td>2800000.0</td>\n",
       "    </tr>\n",
       "    <tr>\n",
       "      <th>atrgxnnt</th>\n",
       "      <td>1.0</td>\n",
       "      <td>7.500000e+05</td>\n",
       "      <td>NaN</td>\n",
       "      <td>750000.0</td>\n",
       "      <td>750000.0</td>\n",
       "      <td>750000.0</td>\n",
       "      <td>750000.0</td>\n",
       "      <td>750000.0</td>\n",
       "    </tr>\n",
       "    <tr>\n",
       "      <th>...</th>\n",
       "      <th>...</th>\n",
       "      <th>...</th>\n",
       "      <td>...</td>\n",
       "      <td>...</td>\n",
       "      <td>...</td>\n",
       "      <td>...</td>\n",
       "      <td>...</td>\n",
       "      <td>...</td>\n",
       "      <td>...</td>\n",
       "      <td>...</td>\n",
       "    </tr>\n",
       "    <tr>\n",
       "      <th rowspan=\"5\" valign=\"top\">22.0</th>\n",
       "      <th rowspan=\"2\" valign=\"top\">support engineer</th>\n",
       "      <th>xmb xzaxv uqxcvnt rxbxnta</th>\n",
       "      <td>1.0</td>\n",
       "      <td>5.000000e+05</td>\n",
       "      <td>NaN</td>\n",
       "      <td>500000.0</td>\n",
       "      <td>500000.0</td>\n",
       "      <td>500000.0</td>\n",
       "      <td>500000.0</td>\n",
       "      <td>500000.0</td>\n",
       "    </tr>\n",
       "    <tr>\n",
       "      <th>zgzt</th>\n",
       "      <td>1.0</td>\n",
       "      <td>1.600000e+06</td>\n",
       "      <td>NaN</td>\n",
       "      <td>1600000.0</td>\n",
       "      <td>1600000.0</td>\n",
       "      <td>1600000.0</td>\n",
       "      <td>1600000.0</td>\n",
       "      <td>1600000.0</td>\n",
       "    </tr>\n",
       "    <tr>\n",
       "      <th>system admin</th>\n",
       "      <th>zgn vuurxwvmrt vwwghzn</th>\n",
       "      <td>1.0</td>\n",
       "      <td>5.000000e+05</td>\n",
       "      <td>NaN</td>\n",
       "      <td>500000.0</td>\n",
       "      <td>500000.0</td>\n",
       "      <td>500000.0</td>\n",
       "      <td>500000.0</td>\n",
       "      <td>500000.0</td>\n",
       "    </tr>\n",
       "    <tr>\n",
       "      <th>technology architect</th>\n",
       "      <th>vwwtznhqt</th>\n",
       "      <td>1.0</td>\n",
       "      <td>4.200000e+06</td>\n",
       "      <td>NaN</td>\n",
       "      <td>4200000.0</td>\n",
       "      <td>4200000.0</td>\n",
       "      <td>4200000.0</td>\n",
       "      <td>4200000.0</td>\n",
       "      <td>4200000.0</td>\n",
       "    </tr>\n",
       "    <tr>\n",
       "      <th>trainer</th>\n",
       "      <th>Others</th>\n",
       "      <td>1.0</td>\n",
       "      <td>4.000000e+05</td>\n",
       "      <td>NaN</td>\n",
       "      <td>400000.0</td>\n",
       "      <td>400000.0</td>\n",
       "      <td>400000.0</td>\n",
       "      <td>400000.0</td>\n",
       "      <td>400000.0</td>\n",
       "    </tr>\n",
       "  </tbody>\n",
       "</table>\n",
       "<p>52470 rows × 8 columns</p>\n",
       "</div>"
      ],
      "text/plain": [
       "                                                        count          mean  \\\n",
       "yrs_exp job_position         company_hash                                     \n",
       "1.0                          Others                       1.0  4.500000e+05   \n",
       "        Others               Others                     224.0  1.405647e+06   \n",
       "                             adw ntwyzgrgsj               1.0  3.600000e+05   \n",
       "                             athnowyt ntrtpgb             1.0  2.800000e+06   \n",
       "                             atrgxnnt                     1.0  7.500000e+05   \n",
       "...                                                       ...           ...   \n",
       "22.0    support engineer     xmb xzaxv uqxcvnt rxbxnta    1.0  5.000000e+05   \n",
       "                             zgzt                         1.0  1.600000e+06   \n",
       "        system admin         zgn vuurxwvmrt vwwghzn       1.0  5.000000e+05   \n",
       "        technology architect vwwtznhqt                    1.0  4.200000e+06   \n",
       "        trainer              Others                       1.0  4.000000e+05   \n",
       "\n",
       "                                                                 std  \\\n",
       "yrs_exp job_position         company_hash                              \n",
       "1.0                          Others                              NaN   \n",
       "        Others               Others                     1.864368e+06   \n",
       "                             adw ntwyzgrgsj                      NaN   \n",
       "                             athnowyt ntrtpgb                    NaN   \n",
       "                             atrgxnnt                            NaN   \n",
       "...                                                              ...   \n",
       "22.0    support engineer     xmb xzaxv uqxcvnt rxbxnta           NaN   \n",
       "                             zgzt                                NaN   \n",
       "        system admin         zgn vuurxwvmrt vwwghzn              NaN   \n",
       "        technology architect vwwtznhqt                           NaN   \n",
       "        trainer              Others                              NaN   \n",
       "\n",
       "                                                              min        25%  \\\n",
       "yrs_exp job_position         company_hash                                      \n",
       "1.0                          Others                      450000.0   450000.0   \n",
       "        Others               Others                       80000.0   360000.0   \n",
       "                             adw ntwyzgrgsj              360000.0   360000.0   \n",
       "                             athnowyt ntrtpgb           2800000.0  2800000.0   \n",
       "                             atrgxnnt                    750000.0   750000.0   \n",
       "...                                                           ...        ...   \n",
       "22.0    support engineer     xmb xzaxv uqxcvnt rxbxnta   500000.0   500000.0   \n",
       "                             zgzt                       1600000.0  1600000.0   \n",
       "        system admin         zgn vuurxwvmrt vwwghzn      500000.0   500000.0   \n",
       "        technology architect vwwtznhqt                  4200000.0  4200000.0   \n",
       "        trainer              Others                      400000.0   400000.0   \n",
       "\n",
       "                                                              50%        75%  \\\n",
       "yrs_exp job_position         company_hash                                      \n",
       "1.0                          Others                      450000.0   450000.0   \n",
       "        Others               Others                      700000.0  1402500.0   \n",
       "                             adw ntwyzgrgsj              360000.0   360000.0   \n",
       "                             athnowyt ntrtpgb           2800000.0  2800000.0   \n",
       "                             atrgxnnt                    750000.0   750000.0   \n",
       "...                                                           ...        ...   \n",
       "22.0    support engineer     xmb xzaxv uqxcvnt rxbxnta   500000.0   500000.0   \n",
       "                             zgzt                       1600000.0  1600000.0   \n",
       "        system admin         zgn vuurxwvmrt vwwghzn      500000.0   500000.0   \n",
       "        technology architect vwwtznhqt                  4200000.0  4200000.0   \n",
       "        trainer              Others                      400000.0   400000.0   \n",
       "\n",
       "                                                              max  \n",
       "yrs_exp job_position         company_hash                          \n",
       "1.0                          Others                      450000.0  \n",
       "        Others               Others                     7000000.0  \n",
       "                             adw ntwyzgrgsj              360000.0  \n",
       "                             athnowyt ntrtpgb           2800000.0  \n",
       "                             atrgxnnt                    750000.0  \n",
       "...                                                           ...  \n",
       "22.0    support engineer     xmb xzaxv uqxcvnt rxbxnta   500000.0  \n",
       "                             zgzt                       1600000.0  \n",
       "        system admin         zgn vuurxwvmrt vwwghzn      500000.0  \n",
       "        technology architect vwwtznhqt                  4200000.0  \n",
       "        trainer              Others                      400000.0  \n",
       "\n",
       "[52470 rows x 8 columns]"
      ]
     },
     "execution_count": 102,
     "metadata": {},
     "output_type": "execute_result"
    }
   ],
   "source": [
    "df_group_y_j_c = df.groupby(['yrs_exp','job_position','company_hash'])['ctc'].describe()\n",
    "df_group_y_j_c"
   ]
  },
  {
   "cell_type": "code",
   "execution_count": 103,
   "metadata": {},
   "outputs": [
    {
     "data": {
      "text/html": [
       "<div>\n",
       "<style scoped>\n",
       "    .dataframe tbody tr th:only-of-type {\n",
       "        vertical-align: middle;\n",
       "    }\n",
       "\n",
       "    .dataframe tbody tr th {\n",
       "        vertical-align: top;\n",
       "    }\n",
       "\n",
       "    .dataframe thead th {\n",
       "        text-align: right;\n",
       "    }\n",
       "</style>\n",
       "<table border=\"1\" class=\"dataframe\">\n",
       "  <thead>\n",
       "    <tr style=\"text-align: right;\">\n",
       "      <th></th>\n",
       "      <th>company_hash</th>\n",
       "      <th>orgyear</th>\n",
       "      <th>ctc</th>\n",
       "      <th>job_position</th>\n",
       "      <th>ctc_updated_year</th>\n",
       "      <th>yrs_exp</th>\n",
       "      <th>count</th>\n",
       "      <th>mean</th>\n",
       "      <th>std</th>\n",
       "      <th>min</th>\n",
       "      <th>25%</th>\n",
       "      <th>50%</th>\n",
       "      <th>75%</th>\n",
       "      <th>max</th>\n",
       "    </tr>\n",
       "  </thead>\n",
       "  <tbody>\n",
       "    <tr>\n",
       "      <th>0</th>\n",
       "      <td>ngpgutaxv</td>\n",
       "      <td>2017.0</td>\n",
       "      <td>700000.0</td>\n",
       "      <td>backend engineer</td>\n",
       "      <td>2019.0</td>\n",
       "      <td>5.0</td>\n",
       "      <td>6.0</td>\n",
       "      <td>1.060000e+06</td>\n",
       "      <td>3.391165e+05</td>\n",
       "      <td>700000.0</td>\n",
       "      <td>812500.0</td>\n",
       "      <td>1025000.0</td>\n",
       "      <td>1207500.0</td>\n",
       "      <td>1600000.0</td>\n",
       "    </tr>\n",
       "    <tr>\n",
       "      <th>1</th>\n",
       "      <td>vwwtznhqt ntwyzgrgsj</td>\n",
       "      <td>2019.0</td>\n",
       "      <td>400000.0</td>\n",
       "      <td>backend engineer</td>\n",
       "      <td>2019.0</td>\n",
       "      <td>3.0</td>\n",
       "      <td>2.0</td>\n",
       "      <td>4.250000e+05</td>\n",
       "      <td>3.535534e+04</td>\n",
       "      <td>400000.0</td>\n",
       "      <td>412500.0</td>\n",
       "      <td>425000.0</td>\n",
       "      <td>437500.0</td>\n",
       "      <td>450000.0</td>\n",
       "    </tr>\n",
       "    <tr>\n",
       "      <th>2</th>\n",
       "      <td>Others</td>\n",
       "      <td>2019.0</td>\n",
       "      <td>360000.0</td>\n",
       "      <td>Others</td>\n",
       "      <td>2019.0</td>\n",
       "      <td>3.0</td>\n",
       "      <td>1084.0</td>\n",
       "      <td>8.385185e+05</td>\n",
       "      <td>1.025635e+06</td>\n",
       "      <td>80000.0</td>\n",
       "      <td>350000.0</td>\n",
       "      <td>520000.0</td>\n",
       "      <td>900000.0</td>\n",
       "      <td>7000000.0</td>\n",
       "    </tr>\n",
       "    <tr>\n",
       "      <th>3</th>\n",
       "      <td>wgszxkvzn</td>\n",
       "      <td>2016.0</td>\n",
       "      <td>440000.0</td>\n",
       "      <td>data analyst</td>\n",
       "      <td>2020.0</td>\n",
       "      <td>6.0</td>\n",
       "      <td>12.0</td>\n",
       "      <td>5.910832e+05</td>\n",
       "      <td>2.898958e+05</td>\n",
       "      <td>150000.0</td>\n",
       "      <td>410750.0</td>\n",
       "      <td>480000.0</td>\n",
       "      <td>750000.0</td>\n",
       "      <td>1100000.0</td>\n",
       "    </tr>\n",
       "    <tr>\n",
       "      <th>4</th>\n",
       "      <td>xznhxn</td>\n",
       "      <td>2016.0</td>\n",
       "      <td>440000.0</td>\n",
       "      <td>backend engineer</td>\n",
       "      <td>2019.0</td>\n",
       "      <td>6.0</td>\n",
       "      <td>10.0</td>\n",
       "      <td>2.390000e+06</td>\n",
       "      <td>9.404254e+05</td>\n",
       "      <td>440000.0</td>\n",
       "      <td>1862500.0</td>\n",
       "      <td>2495000.0</td>\n",
       "      <td>3075000.0</td>\n",
       "      <td>3600000.0</td>\n",
       "    </tr>\n",
       "    <tr>\n",
       "      <th>...</th>\n",
       "      <td>...</td>\n",
       "      <td>...</td>\n",
       "      <td>...</td>\n",
       "      <td>...</td>\n",
       "      <td>...</td>\n",
       "      <td>...</td>\n",
       "      <td>...</td>\n",
       "      <td>...</td>\n",
       "      <td>...</td>\n",
       "      <td>...</td>\n",
       "      <td>...</td>\n",
       "      <td>...</td>\n",
       "      <td>...</td>\n",
       "      <td>...</td>\n",
       "    </tr>\n",
       "    <tr>\n",
       "      <th>153413</th>\n",
       "      <td>vuurt xzw</td>\n",
       "      <td>2008.0</td>\n",
       "      <td>220000.0</td>\n",
       "      <td>Others</td>\n",
       "      <td>2019.0</td>\n",
       "      <td>14.0</td>\n",
       "      <td>1.0</td>\n",
       "      <td>2.200000e+05</td>\n",
       "      <td>NaN</td>\n",
       "      <td>220000.0</td>\n",
       "      <td>220000.0</td>\n",
       "      <td>220000.0</td>\n",
       "      <td>220000.0</td>\n",
       "      <td>220000.0</td>\n",
       "    </tr>\n",
       "    <tr>\n",
       "      <th>153414</th>\n",
       "      <td>husqvawgb</td>\n",
       "      <td>2017.0</td>\n",
       "      <td>500000.0</td>\n",
       "      <td>Others</td>\n",
       "      <td>2020.0</td>\n",
       "      <td>5.0</td>\n",
       "      <td>4.0</td>\n",
       "      <td>1.202500e+06</td>\n",
       "      <td>4.719022e+05</td>\n",
       "      <td>500000.0</td>\n",
       "      <td>1145000.0</td>\n",
       "      <td>1405000.0</td>\n",
       "      <td>1462500.0</td>\n",
       "      <td>1500000.0</td>\n",
       "    </tr>\n",
       "    <tr>\n",
       "      <th>153415</th>\n",
       "      <td>vwwgrxnt</td>\n",
       "      <td>2021.0</td>\n",
       "      <td>700000.0</td>\n",
       "      <td>Others</td>\n",
       "      <td>2021.0</td>\n",
       "      <td>1.0</td>\n",
       "      <td>2.0</td>\n",
       "      <td>8.500000e+05</td>\n",
       "      <td>2.121320e+05</td>\n",
       "      <td>700000.0</td>\n",
       "      <td>775000.0</td>\n",
       "      <td>850000.0</td>\n",
       "      <td>925000.0</td>\n",
       "      <td>1000000.0</td>\n",
       "    </tr>\n",
       "    <tr>\n",
       "      <th>153416</th>\n",
       "      <td>zgn vuurxwvmrt</td>\n",
       "      <td>2019.0</td>\n",
       "      <td>5100000.0</td>\n",
       "      <td>Others</td>\n",
       "      <td>2019.0</td>\n",
       "      <td>3.0</td>\n",
       "      <td>185.0</td>\n",
       "      <td>1.449150e+06</td>\n",
       "      <td>1.806782e+06</td>\n",
       "      <td>80000.0</td>\n",
       "      <td>400000.0</td>\n",
       "      <td>720000.0</td>\n",
       "      <td>1500000.0</td>\n",
       "      <td>7000000.0</td>\n",
       "    </tr>\n",
       "    <tr>\n",
       "      <th>153417</th>\n",
       "      <td>bgqsvz onvzrtj</td>\n",
       "      <td>2014.0</td>\n",
       "      <td>1240000.0</td>\n",
       "      <td>Others</td>\n",
       "      <td>2016.0</td>\n",
       "      <td>8.0</td>\n",
       "      <td>6.0</td>\n",
       "      <td>1.706667e+06</td>\n",
       "      <td>3.037543e+05</td>\n",
       "      <td>1240000.0</td>\n",
       "      <td>1550000.0</td>\n",
       "      <td>1750000.0</td>\n",
       "      <td>1875000.0</td>\n",
       "      <td>2100000.0</td>\n",
       "    </tr>\n",
       "  </tbody>\n",
       "</table>\n",
       "<p>153418 rows × 14 columns</p>\n",
       "</div>"
      ],
      "text/plain": [
       "                company_hash  orgyear        ctc      job_position  \\\n",
       "0                  ngpgutaxv   2017.0   700000.0  backend engineer   \n",
       "1       vwwtznhqt ntwyzgrgsj   2019.0   400000.0  backend engineer   \n",
       "2                     Others   2019.0   360000.0            Others   \n",
       "3                  wgszxkvzn   2016.0   440000.0      data analyst   \n",
       "4                     xznhxn   2016.0   440000.0  backend engineer   \n",
       "...                      ...      ...        ...               ...   \n",
       "153413             vuurt xzw   2008.0   220000.0            Others   \n",
       "153414             husqvawgb   2017.0   500000.0            Others   \n",
       "153415              vwwgrxnt   2021.0   700000.0            Others   \n",
       "153416        zgn vuurxwvmrt   2019.0  5100000.0            Others   \n",
       "153417        bgqsvz onvzrtj   2014.0  1240000.0            Others   \n",
       "\n",
       "        ctc_updated_year  yrs_exp   count          mean           std  \\\n",
       "0                 2019.0      5.0     6.0  1.060000e+06  3.391165e+05   \n",
       "1                 2019.0      3.0     2.0  4.250000e+05  3.535534e+04   \n",
       "2                 2019.0      3.0  1084.0  8.385185e+05  1.025635e+06   \n",
       "3                 2020.0      6.0    12.0  5.910832e+05  2.898958e+05   \n",
       "4                 2019.0      6.0    10.0  2.390000e+06  9.404254e+05   \n",
       "...                  ...      ...     ...           ...           ...   \n",
       "153413            2019.0     14.0     1.0  2.200000e+05           NaN   \n",
       "153414            2020.0      5.0     4.0  1.202500e+06  4.719022e+05   \n",
       "153415            2021.0      1.0     2.0  8.500000e+05  2.121320e+05   \n",
       "153416            2019.0      3.0   185.0  1.449150e+06  1.806782e+06   \n",
       "153417            2016.0      8.0     6.0  1.706667e+06  3.037543e+05   \n",
       "\n",
       "              min        25%        50%        75%        max  \n",
       "0        700000.0   812500.0  1025000.0  1207500.0  1600000.0  \n",
       "1        400000.0   412500.0   425000.0   437500.0   450000.0  \n",
       "2         80000.0   350000.0   520000.0   900000.0  7000000.0  \n",
       "3        150000.0   410750.0   480000.0   750000.0  1100000.0  \n",
       "4        440000.0  1862500.0  2495000.0  3075000.0  3600000.0  \n",
       "...           ...        ...        ...        ...        ...  \n",
       "153413   220000.0   220000.0   220000.0   220000.0   220000.0  \n",
       "153414   500000.0  1145000.0  1405000.0  1462500.0  1500000.0  \n",
       "153415   700000.0   775000.0   850000.0   925000.0  1000000.0  \n",
       "153416    80000.0   400000.0   720000.0  1500000.0  7000000.0  \n",
       "153417  1240000.0  1550000.0  1750000.0  1875000.0  2100000.0  \n",
       "\n",
       "[153418 rows x 14 columns]"
      ]
     },
     "execution_count": 103,
     "metadata": {},
     "output_type": "execute_result"
    }
   ],
   "source": [
    "df_y_j_c=df.merge(df_group_y_j_c, on=['yrs_exp','job_position','company_hash'], how='left')\n",
    "df_y_j_c"
   ]
  },
  {
   "attachments": {},
   "cell_type": "markdown",
   "metadata": {},
   "source": [
    "#### Defining a function to divide data into 3 sub categories"
   ]
  },
  {
   "cell_type": "code",
   "execution_count": 104,
   "metadata": {},
   "outputs": [],
   "source": [
    "def segment(a,b_50,b_75):\n",
    "    if a<b_50:\n",
    "        return 3\n",
    "    elif a>=b_50 and a<=b_75:\n",
    "        return 2\n",
    "    \n",
    "    elif a>=b_75:\n",
    "        return 1"
   ]
  },
  {
   "cell_type": "code",
   "execution_count": 105,
   "metadata": {},
   "outputs": [
    {
     "data": {
      "text/html": [
       "<div>\n",
       "<style scoped>\n",
       "    .dataframe tbody tr th:only-of-type {\n",
       "        vertical-align: middle;\n",
       "    }\n",
       "\n",
       "    .dataframe tbody tr th {\n",
       "        vertical-align: top;\n",
       "    }\n",
       "\n",
       "    .dataframe thead th {\n",
       "        text-align: right;\n",
       "    }\n",
       "</style>\n",
       "<table border=\"1\" class=\"dataframe\">\n",
       "  <thead>\n",
       "    <tr style=\"text-align: right;\">\n",
       "      <th></th>\n",
       "      <th>company_hash</th>\n",
       "      <th>orgyear</th>\n",
       "      <th>ctc</th>\n",
       "      <th>job_position</th>\n",
       "      <th>ctc_updated_year</th>\n",
       "      <th>yrs_exp</th>\n",
       "      <th>count</th>\n",
       "      <th>mean</th>\n",
       "      <th>std</th>\n",
       "      <th>min</th>\n",
       "      <th>25%</th>\n",
       "      <th>50%</th>\n",
       "      <th>75%</th>\n",
       "      <th>max</th>\n",
       "      <th>designation</th>\n",
       "    </tr>\n",
       "  </thead>\n",
       "  <tbody>\n",
       "    <tr>\n",
       "      <th>0</th>\n",
       "      <td>ngpgutaxv</td>\n",
       "      <td>2017.0</td>\n",
       "      <td>700000.0</td>\n",
       "      <td>backend engineer</td>\n",
       "      <td>2019.0</td>\n",
       "      <td>5.0</td>\n",
       "      <td>6.0</td>\n",
       "      <td>1060000.0</td>\n",
       "      <td>339116.499156</td>\n",
       "      <td>700000.0</td>\n",
       "      <td>812500.0</td>\n",
       "      <td>1025000.0</td>\n",
       "      <td>1207500.0</td>\n",
       "      <td>1600000.0</td>\n",
       "      <td>3</td>\n",
       "    </tr>\n",
       "    <tr>\n",
       "      <th>1</th>\n",
       "      <td>vwwtznhqt ntwyzgrgsj</td>\n",
       "      <td>2019.0</td>\n",
       "      <td>400000.0</td>\n",
       "      <td>backend engineer</td>\n",
       "      <td>2019.0</td>\n",
       "      <td>3.0</td>\n",
       "      <td>2.0</td>\n",
       "      <td>425000.0</td>\n",
       "      <td>35355.339059</td>\n",
       "      <td>400000.0</td>\n",
       "      <td>412500.0</td>\n",
       "      <td>425000.0</td>\n",
       "      <td>437500.0</td>\n",
       "      <td>450000.0</td>\n",
       "      <td>3</td>\n",
       "    </tr>\n",
       "  </tbody>\n",
       "</table>\n",
       "</div>"
      ],
      "text/plain": [
       "           company_hash  orgyear       ctc      job_position  \\\n",
       "0             ngpgutaxv   2017.0  700000.0  backend engineer   \n",
       "1  vwwtznhqt ntwyzgrgsj   2019.0  400000.0  backend engineer   \n",
       "\n",
       "   ctc_updated_year  yrs_exp  count       mean            std       min  \\\n",
       "0            2019.0      5.0    6.0  1060000.0  339116.499156  700000.0   \n",
       "1            2019.0      3.0    2.0   425000.0   35355.339059  400000.0   \n",
       "\n",
       "        25%        50%        75%        max  designation  \n",
       "0  812500.0  1025000.0  1207500.0  1600000.0            3  \n",
       "1  412500.0   425000.0   437500.0   450000.0            3  "
      ]
     },
     "execution_count": 105,
     "metadata": {},
     "output_type": "execute_result"
    }
   ],
   "source": [
    "df_y_j_c['designation'] = df_y_j_c.apply(lambda x: segment(x['ctc'],x['50%'],x['75%']),axis=1)\n",
    "df_y_j_c.head(2)"
   ]
  },
  {
   "cell_type": "code",
   "execution_count": 106,
   "metadata": {},
   "outputs": [
    {
     "data": {
      "text/plain": [
       "2    0.446382\n",
       "3    0.345116\n",
       "1    0.208502\n",
       "Name: designation, dtype: float64"
      ]
     },
     "execution_count": 106,
     "metadata": {},
     "output_type": "execute_result"
    }
   ],
   "source": [
    "df_y_j_c.designation.value_counts(normalize=True)"
   ]
  },
  {
   "cell_type": "code",
   "execution_count": 107,
   "metadata": {},
   "outputs": [
    {
     "data": {
      "text/plain": [
       "(153418, 15)"
      ]
     },
     "execution_count": 107,
     "metadata": {},
     "output_type": "execute_result"
    }
   ],
   "source": [
    "df_y_j_c.shape"
   ]
  },
  {
   "attachments": {},
   "cell_type": "markdown",
   "metadata": {},
   "source": [
    "## Manual Clustering based on company and job position "
   ]
  },
  {
   "cell_type": "code",
   "execution_count": 108,
   "metadata": {},
   "outputs": [],
   "source": [
    "df_grp_c_j = df.groupby(['job_position','company_hash'])['ctc'].describe()"
   ]
  },
  {
   "cell_type": "code",
   "execution_count": 109,
   "metadata": {},
   "outputs": [
    {
     "data": {
      "text/html": [
       "<div>\n",
       "<style scoped>\n",
       "    .dataframe tbody tr th:only-of-type {\n",
       "        vertical-align: middle;\n",
       "    }\n",
       "\n",
       "    .dataframe tbody tr th {\n",
       "        vertical-align: top;\n",
       "    }\n",
       "\n",
       "    .dataframe thead th {\n",
       "        text-align: right;\n",
       "    }\n",
       "</style>\n",
       "<table border=\"1\" class=\"dataframe\">\n",
       "  <thead>\n",
       "    <tr style=\"text-align: right;\">\n",
       "      <th></th>\n",
       "      <th></th>\n",
       "      <th>count</th>\n",
       "      <th>mean</th>\n",
       "      <th>std</th>\n",
       "      <th>min</th>\n",
       "      <th>25%</th>\n",
       "      <th>50%</th>\n",
       "      <th>75%</th>\n",
       "      <th>max</th>\n",
       "    </tr>\n",
       "    <tr>\n",
       "      <th>job_position</th>\n",
       "      <th>company_hash</th>\n",
       "      <th></th>\n",
       "      <th></th>\n",
       "      <th></th>\n",
       "      <th></th>\n",
       "      <th></th>\n",
       "      <th></th>\n",
       "      <th></th>\n",
       "      <th></th>\n",
       "    </tr>\n",
       "  </thead>\n",
       "  <tbody>\n",
       "    <tr>\n",
       "      <th rowspan=\"5\" valign=\"top\"></th>\n",
       "      <th>Others</th>\n",
       "      <td>4.0</td>\n",
       "      <td>480000.0</td>\n",
       "      <td>152534.149182</td>\n",
       "      <td>350000.0</td>\n",
       "      <td>402500.0</td>\n",
       "      <td>435000.0</td>\n",
       "      <td>512500.0</td>\n",
       "      <td>700000.0</td>\n",
       "    </tr>\n",
       "    <tr>\n",
       "      <th>fyxntyvn lq</th>\n",
       "      <td>1.0</td>\n",
       "      <td>600000.0</td>\n",
       "      <td>NaN</td>\n",
       "      <td>600000.0</td>\n",
       "      <td>600000.0</td>\n",
       "      <td>600000.0</td>\n",
       "      <td>600000.0</td>\n",
       "      <td>600000.0</td>\n",
       "    </tr>\n",
       "    <tr>\n",
       "      <th>otre tburgjta</th>\n",
       "      <td>1.0</td>\n",
       "      <td>600000.0</td>\n",
       "      <td>NaN</td>\n",
       "      <td>600000.0</td>\n",
       "      <td>600000.0</td>\n",
       "      <td>600000.0</td>\n",
       "      <td>600000.0</td>\n",
       "      <td>600000.0</td>\n",
       "    </tr>\n",
       "    <tr>\n",
       "      <th>wgszxkvzn</th>\n",
       "      <td>1.0</td>\n",
       "      <td>470000.0</td>\n",
       "      <td>NaN</td>\n",
       "      <td>470000.0</td>\n",
       "      <td>470000.0</td>\n",
       "      <td>470000.0</td>\n",
       "      <td>470000.0</td>\n",
       "      <td>470000.0</td>\n",
       "    </tr>\n",
       "    <tr>\n",
       "      <th>yaew mvzp</th>\n",
       "      <td>1.0</td>\n",
       "      <td>7000000.0</td>\n",
       "      <td>NaN</td>\n",
       "      <td>7000000.0</td>\n",
       "      <td>7000000.0</td>\n",
       "      <td>7000000.0</td>\n",
       "      <td>7000000.0</td>\n",
       "      <td>7000000.0</td>\n",
       "    </tr>\n",
       "  </tbody>\n",
       "</table>\n",
       "</div>"
      ],
      "text/plain": [
       "                            count       mean            std        min  \\\n",
       "job_position company_hash                                                \n",
       "             Others           4.0   480000.0  152534.149182   350000.0   \n",
       "             fyxntyvn lq      1.0   600000.0            NaN   600000.0   \n",
       "             otre tburgjta    1.0   600000.0            NaN   600000.0   \n",
       "             wgszxkvzn        1.0   470000.0            NaN   470000.0   \n",
       "             yaew mvzp        1.0  7000000.0            NaN  7000000.0   \n",
       "\n",
       "                                  25%        50%        75%        max  \n",
       "job_position company_hash                                               \n",
       "             Others          402500.0   435000.0   512500.0   700000.0  \n",
       "             fyxntyvn lq     600000.0   600000.0   600000.0   600000.0  \n",
       "             otre tburgjta   600000.0   600000.0   600000.0   600000.0  \n",
       "             wgszxkvzn       470000.0   470000.0   470000.0   470000.0  \n",
       "             yaew mvzp      7000000.0  7000000.0  7000000.0  7000000.0  "
      ]
     },
     "execution_count": 109,
     "metadata": {},
     "output_type": "execute_result"
    }
   ],
   "source": [
    "df_grp_c_j.head()"
   ]
  },
  {
   "cell_type": "code",
   "execution_count": 110,
   "metadata": {},
   "outputs": [
    {
     "data": {
      "text/html": [
       "<div>\n",
       "<style scoped>\n",
       "    .dataframe tbody tr th:only-of-type {\n",
       "        vertical-align: middle;\n",
       "    }\n",
       "\n",
       "    .dataframe tbody tr th {\n",
       "        vertical-align: top;\n",
       "    }\n",
       "\n",
       "    .dataframe thead th {\n",
       "        text-align: right;\n",
       "    }\n",
       "</style>\n",
       "<table border=\"1\" class=\"dataframe\">\n",
       "  <thead>\n",
       "    <tr style=\"text-align: right;\">\n",
       "      <th></th>\n",
       "      <th>company_hash</th>\n",
       "      <th>orgyear</th>\n",
       "      <th>ctc</th>\n",
       "      <th>job_position</th>\n",
       "      <th>ctc_updated_year</th>\n",
       "      <th>yrs_exp</th>\n",
       "      <th>count</th>\n",
       "      <th>mean</th>\n",
       "      <th>std</th>\n",
       "      <th>min</th>\n",
       "      <th>25%</th>\n",
       "      <th>50%</th>\n",
       "      <th>75%</th>\n",
       "      <th>max</th>\n",
       "    </tr>\n",
       "  </thead>\n",
       "  <tbody>\n",
       "    <tr>\n",
       "      <th>0</th>\n",
       "      <td>ngpgutaxv</td>\n",
       "      <td>2017.0</td>\n",
       "      <td>700000.0</td>\n",
       "      <td>backend engineer</td>\n",
       "      <td>2019.0</td>\n",
       "      <td>5.0</td>\n",
       "      <td>22.0</td>\n",
       "      <td>1.515000e+06</td>\n",
       "      <td>6.837902e+05</td>\n",
       "      <td>700000.0</td>\n",
       "      <td>1062500.0</td>\n",
       "      <td>1375000.0</td>\n",
       "      <td>1797500.0</td>\n",
       "      <td>3500000.0</td>\n",
       "    </tr>\n",
       "    <tr>\n",
       "      <th>1</th>\n",
       "      <td>vwwtznhqt ntwyzgrgsj</td>\n",
       "      <td>2019.0</td>\n",
       "      <td>400000.0</td>\n",
       "      <td>backend engineer</td>\n",
       "      <td>2019.0</td>\n",
       "      <td>3.0</td>\n",
       "      <td>6.0</td>\n",
       "      <td>1.243333e+06</td>\n",
       "      <td>1.147635e+06</td>\n",
       "      <td>400000.0</td>\n",
       "      <td>565000.0</td>\n",
       "      <td>1005000.0</td>\n",
       "      <td>1100000.0</td>\n",
       "      <td>3500000.0</td>\n",
       "    </tr>\n",
       "    <tr>\n",
       "      <th>2</th>\n",
       "      <td>Others</td>\n",
       "      <td>2019.0</td>\n",
       "      <td>360000.0</td>\n",
       "      <td>Others</td>\n",
       "      <td>2019.0</td>\n",
       "      <td>3.0</td>\n",
       "      <td>7420.0</td>\n",
       "      <td>1.075687e+06</td>\n",
       "      <td>1.190796e+06</td>\n",
       "      <td>80000.0</td>\n",
       "      <td>400000.0</td>\n",
       "      <td>700000.0</td>\n",
       "      <td>1300000.0</td>\n",
       "      <td>7000000.0</td>\n",
       "    </tr>\n",
       "    <tr>\n",
       "      <th>3</th>\n",
       "      <td>wgszxkvzn</td>\n",
       "      <td>2016.0</td>\n",
       "      <td>440000.0</td>\n",
       "      <td>data analyst</td>\n",
       "      <td>2020.0</td>\n",
       "      <td>6.0</td>\n",
       "      <td>90.0</td>\n",
       "      <td>8.355333e+05</td>\n",
       "      <td>1.186427e+06</td>\n",
       "      <td>80000.0</td>\n",
       "      <td>412500.0</td>\n",
       "      <td>555000.0</td>\n",
       "      <td>795000.0</td>\n",
       "      <td>7000000.0</td>\n",
       "    </tr>\n",
       "    <tr>\n",
       "      <th>4</th>\n",
       "      <td>xznhxn</td>\n",
       "      <td>2016.0</td>\n",
       "      <td>440000.0</td>\n",
       "      <td>backend engineer</td>\n",
       "      <td>2019.0</td>\n",
       "      <td>6.0</td>\n",
       "      <td>66.0</td>\n",
       "      <td>2.891712e+06</td>\n",
       "      <td>1.556783e+06</td>\n",
       "      <td>80000.0</td>\n",
       "      <td>2010000.0</td>\n",
       "      <td>2615000.0</td>\n",
       "      <td>3500000.0</td>\n",
       "      <td>7000000.0</td>\n",
       "    </tr>\n",
       "  </tbody>\n",
       "</table>\n",
       "</div>"
      ],
      "text/plain": [
       "           company_hash  orgyear       ctc      job_position  \\\n",
       "0             ngpgutaxv   2017.0  700000.0  backend engineer   \n",
       "1  vwwtznhqt ntwyzgrgsj   2019.0  400000.0  backend engineer   \n",
       "2                Others   2019.0  360000.0            Others   \n",
       "3             wgszxkvzn   2016.0  440000.0      data analyst   \n",
       "4                xznhxn   2016.0  440000.0  backend engineer   \n",
       "\n",
       "   ctc_updated_year  yrs_exp   count          mean           std       min  \\\n",
       "0            2019.0      5.0    22.0  1.515000e+06  6.837902e+05  700000.0   \n",
       "1            2019.0      3.0     6.0  1.243333e+06  1.147635e+06  400000.0   \n",
       "2            2019.0      3.0  7420.0  1.075687e+06  1.190796e+06   80000.0   \n",
       "3            2020.0      6.0    90.0  8.355333e+05  1.186427e+06   80000.0   \n",
       "4            2019.0      6.0    66.0  2.891712e+06  1.556783e+06   80000.0   \n",
       "\n",
       "         25%        50%        75%        max  \n",
       "0  1062500.0  1375000.0  1797500.0  3500000.0  \n",
       "1   565000.0  1005000.0  1100000.0  3500000.0  \n",
       "2   400000.0   700000.0  1300000.0  7000000.0  \n",
       "3   412500.0   555000.0   795000.0  7000000.0  \n",
       "4  2010000.0  2615000.0  3500000.0  7000000.0  "
      ]
     },
     "execution_count": 110,
     "metadata": {},
     "output_type": "execute_result"
    }
   ],
   "source": [
    "df_cj=df.merge(df_grp_c_j, on=['job_position','company_hash'], how='left')\n",
    "df_cj.head(5)"
   ]
  },
  {
   "cell_type": "code",
   "execution_count": null,
   "metadata": {},
   "outputs": [],
   "source": []
  },
  {
   "cell_type": "code",
   "execution_count": 111,
   "metadata": {},
   "outputs": [],
   "source": [
    "### Creating Class basis on the salary they are getting in their respective company"
   ]
  },
  {
   "cell_type": "code",
   "execution_count": 112,
   "metadata": {},
   "outputs": [
    {
     "data": {
      "text/html": [
       "<div>\n",
       "<style scoped>\n",
       "    .dataframe tbody tr th:only-of-type {\n",
       "        vertical-align: middle;\n",
       "    }\n",
       "\n",
       "    .dataframe tbody tr th {\n",
       "        vertical-align: top;\n",
       "    }\n",
       "\n",
       "    .dataframe thead th {\n",
       "        text-align: right;\n",
       "    }\n",
       "</style>\n",
       "<table border=\"1\" class=\"dataframe\">\n",
       "  <thead>\n",
       "    <tr style=\"text-align: right;\">\n",
       "      <th></th>\n",
       "      <th>company_hash</th>\n",
       "      <th>orgyear</th>\n",
       "      <th>ctc</th>\n",
       "      <th>job_position</th>\n",
       "      <th>ctc_updated_year</th>\n",
       "      <th>yrs_exp</th>\n",
       "      <th>count</th>\n",
       "      <th>mean</th>\n",
       "      <th>std</th>\n",
       "      <th>min</th>\n",
       "      <th>25%</th>\n",
       "      <th>50%</th>\n",
       "      <th>75%</th>\n",
       "      <th>max</th>\n",
       "      <th>classs</th>\n",
       "    </tr>\n",
       "  </thead>\n",
       "  <tbody>\n",
       "    <tr>\n",
       "      <th>0</th>\n",
       "      <td>ngpgutaxv</td>\n",
       "      <td>2017.0</td>\n",
       "      <td>700000.0</td>\n",
       "      <td>backend engineer</td>\n",
       "      <td>2019.0</td>\n",
       "      <td>5.0</td>\n",
       "      <td>22.0</td>\n",
       "      <td>1.515000e+06</td>\n",
       "      <td>6.837902e+05</td>\n",
       "      <td>700000.0</td>\n",
       "      <td>1062500.0</td>\n",
       "      <td>1375000.0</td>\n",
       "      <td>1797500.0</td>\n",
       "      <td>3500000.0</td>\n",
       "      <td>3</td>\n",
       "    </tr>\n",
       "    <tr>\n",
       "      <th>1</th>\n",
       "      <td>vwwtznhqt ntwyzgrgsj</td>\n",
       "      <td>2019.0</td>\n",
       "      <td>400000.0</td>\n",
       "      <td>backend engineer</td>\n",
       "      <td>2019.0</td>\n",
       "      <td>3.0</td>\n",
       "      <td>6.0</td>\n",
       "      <td>1.243333e+06</td>\n",
       "      <td>1.147635e+06</td>\n",
       "      <td>400000.0</td>\n",
       "      <td>565000.0</td>\n",
       "      <td>1005000.0</td>\n",
       "      <td>1100000.0</td>\n",
       "      <td>3500000.0</td>\n",
       "      <td>3</td>\n",
       "    </tr>\n",
       "    <tr>\n",
       "      <th>2</th>\n",
       "      <td>Others</td>\n",
       "      <td>2019.0</td>\n",
       "      <td>360000.0</td>\n",
       "      <td>Others</td>\n",
       "      <td>2019.0</td>\n",
       "      <td>3.0</td>\n",
       "      <td>7420.0</td>\n",
       "      <td>1.075687e+06</td>\n",
       "      <td>1.190796e+06</td>\n",
       "      <td>80000.0</td>\n",
       "      <td>400000.0</td>\n",
       "      <td>700000.0</td>\n",
       "      <td>1300000.0</td>\n",
       "      <td>7000000.0</td>\n",
       "      <td>3</td>\n",
       "    </tr>\n",
       "    <tr>\n",
       "      <th>3</th>\n",
       "      <td>wgszxkvzn</td>\n",
       "      <td>2016.0</td>\n",
       "      <td>440000.0</td>\n",
       "      <td>data analyst</td>\n",
       "      <td>2020.0</td>\n",
       "      <td>6.0</td>\n",
       "      <td>90.0</td>\n",
       "      <td>8.355333e+05</td>\n",
       "      <td>1.186427e+06</td>\n",
       "      <td>80000.0</td>\n",
       "      <td>412500.0</td>\n",
       "      <td>555000.0</td>\n",
       "      <td>795000.0</td>\n",
       "      <td>7000000.0</td>\n",
       "      <td>3</td>\n",
       "    </tr>\n",
       "    <tr>\n",
       "      <th>4</th>\n",
       "      <td>xznhxn</td>\n",
       "      <td>2016.0</td>\n",
       "      <td>440000.0</td>\n",
       "      <td>backend engineer</td>\n",
       "      <td>2019.0</td>\n",
       "      <td>6.0</td>\n",
       "      <td>66.0</td>\n",
       "      <td>2.891712e+06</td>\n",
       "      <td>1.556783e+06</td>\n",
       "      <td>80000.0</td>\n",
       "      <td>2010000.0</td>\n",
       "      <td>2615000.0</td>\n",
       "      <td>3500000.0</td>\n",
       "      <td>7000000.0</td>\n",
       "      <td>3</td>\n",
       "    </tr>\n",
       "  </tbody>\n",
       "</table>\n",
       "</div>"
      ],
      "text/plain": [
       "           company_hash  orgyear       ctc      job_position  \\\n",
       "0             ngpgutaxv   2017.0  700000.0  backend engineer   \n",
       "1  vwwtznhqt ntwyzgrgsj   2019.0  400000.0  backend engineer   \n",
       "2                Others   2019.0  360000.0            Others   \n",
       "3             wgszxkvzn   2016.0  440000.0      data analyst   \n",
       "4                xznhxn   2016.0  440000.0  backend engineer   \n",
       "\n",
       "   ctc_updated_year  yrs_exp   count          mean           std       min  \\\n",
       "0            2019.0      5.0    22.0  1.515000e+06  6.837902e+05  700000.0   \n",
       "1            2019.0      3.0     6.0  1.243333e+06  1.147635e+06  400000.0   \n",
       "2            2019.0      3.0  7420.0  1.075687e+06  1.190796e+06   80000.0   \n",
       "3            2020.0      6.0    90.0  8.355333e+05  1.186427e+06   80000.0   \n",
       "4            2019.0      6.0    66.0  2.891712e+06  1.556783e+06   80000.0   \n",
       "\n",
       "         25%        50%        75%        max  classs  \n",
       "0  1062500.0  1375000.0  1797500.0  3500000.0       3  \n",
       "1   565000.0  1005000.0  1100000.0  3500000.0       3  \n",
       "2   400000.0   700000.0  1300000.0  7000000.0       3  \n",
       "3   412500.0   555000.0   795000.0  7000000.0       3  \n",
       "4  2010000.0  2615000.0  3500000.0  7000000.0       3  "
      ]
     },
     "execution_count": 112,
     "metadata": {},
     "output_type": "execute_result"
    }
   ],
   "source": [
    "df_cj['classs'] = df_cj.apply(lambda x: segment(x['ctc'],x['50%'],x['75%']),axis=1)\n",
    "df_cj.head(5)"
   ]
  },
  {
   "cell_type": "code",
   "execution_count": 113,
   "metadata": {},
   "outputs": [
    {
     "data": {
      "text/plain": [
       "3    0.438606\n",
       "2    0.319363\n",
       "1    0.242032\n",
       "Name: classs, dtype: float64"
      ]
     },
     "execution_count": 113,
     "metadata": {},
     "output_type": "execute_result"
    }
   ],
   "source": [
    "df_cj.classs.value_counts(normalize=True)"
   ]
  },
  {
   "cell_type": "code",
   "execution_count": 114,
   "metadata": {},
   "outputs": [
    {
     "data": {
      "text/html": [
       "<div>\n",
       "<style scoped>\n",
       "    .dataframe tbody tr th:only-of-type {\n",
       "        vertical-align: middle;\n",
       "    }\n",
       "\n",
       "    .dataframe tbody tr th {\n",
       "        vertical-align: top;\n",
       "    }\n",
       "\n",
       "    .dataframe thead th {\n",
       "        text-align: right;\n",
       "    }\n",
       "</style>\n",
       "<table border=\"1\" class=\"dataframe\">\n",
       "  <thead>\n",
       "    <tr style=\"text-align: right;\">\n",
       "      <th></th>\n",
       "      <th>count</th>\n",
       "      <th>mean</th>\n",
       "      <th>std</th>\n",
       "      <th>min</th>\n",
       "      <th>25%</th>\n",
       "      <th>50%</th>\n",
       "      <th>75%</th>\n",
       "      <th>max</th>\n",
       "    </tr>\n",
       "    <tr>\n",
       "      <th>job_position</th>\n",
       "      <th></th>\n",
       "      <th></th>\n",
       "      <th></th>\n",
       "      <th></th>\n",
       "      <th></th>\n",
       "      <th></th>\n",
       "      <th></th>\n",
       "      <th></th>\n",
       "    </tr>\n",
       "  </thead>\n",
       "  <tbody>\n",
       "    <tr>\n",
       "      <th>Others</th>\n",
       "      <td>8332.0</td>\n",
       "      <td>2.544821e+06</td>\n",
       "      <td>1.652757e+06</td>\n",
       "      <td>100000.0</td>\n",
       "      <td>1400000.0</td>\n",
       "      <td>2000000.0</td>\n",
       "      <td>3100000.0</td>\n",
       "      <td>7000000.0</td>\n",
       "    </tr>\n",
       "    <tr>\n",
       "      <th>backend engineer</th>\n",
       "      <td>8232.0</td>\n",
       "      <td>2.791761e+06</td>\n",
       "      <td>1.634072e+06</td>\n",
       "      <td>110000.0</td>\n",
       "      <td>1650000.0</td>\n",
       "      <td>2300000.0</td>\n",
       "      <td>3500000.0</td>\n",
       "      <td>7000000.0</td>\n",
       "    </tr>\n",
       "    <tr>\n",
       "      <th>fullstack engineer</th>\n",
       "      <td>4606.0</td>\n",
       "      <td>2.386272e+06</td>\n",
       "      <td>1.620837e+06</td>\n",
       "      <td>95000.0</td>\n",
       "      <td>1380000.0</td>\n",
       "      <td>1800000.0</td>\n",
       "      <td>2800000.0</td>\n",
       "      <td>7000000.0</td>\n",
       "    </tr>\n",
       "    <tr>\n",
       "      <th>other</th>\n",
       "      <td>3401.0</td>\n",
       "      <td>2.632728e+06</td>\n",
       "      <td>2.096622e+06</td>\n",
       "      <td>100000.0</td>\n",
       "      <td>1200000.0</td>\n",
       "      <td>1800000.0</td>\n",
       "      <td>3160000.0</td>\n",
       "      <td>7000000.0</td>\n",
       "    </tr>\n",
       "    <tr>\n",
       "      <th>frontend engineer</th>\n",
       "      <td>1945.0</td>\n",
       "      <td>2.094382e+06</td>\n",
       "      <td>1.438352e+06</td>\n",
       "      <td>300000.0</td>\n",
       "      <td>1300000.0</td>\n",
       "      <td>1600000.0</td>\n",
       "      <td>2250000.0</td>\n",
       "      <td>7000000.0</td>\n",
       "    </tr>\n",
       "    <tr>\n",
       "      <th>engineering leadership</th>\n",
       "      <td>1433.0</td>\n",
       "      <td>4.434621e+06</td>\n",
       "      <td>1.536781e+06</td>\n",
       "      <td>200000.0</td>\n",
       "      <td>3400000.0</td>\n",
       "      <td>4100000.0</td>\n",
       "      <td>5500000.0</td>\n",
       "      <td>7000000.0</td>\n",
       "    </tr>\n",
       "    <tr>\n",
       "      <th>qa engineer</th>\n",
       "      <td>1344.0</td>\n",
       "      <td>2.015084e+06</td>\n",
       "      <td>1.543282e+06</td>\n",
       "      <td>200000.0</td>\n",
       "      <td>1000000.0</td>\n",
       "      <td>1450000.0</td>\n",
       "      <td>2580000.0</td>\n",
       "      <td>7000000.0</td>\n",
       "    </tr>\n",
       "    <tr>\n",
       "      <th>android engineer</th>\n",
       "      <td>1135.0</td>\n",
       "      <td>2.011853e+06</td>\n",
       "      <td>1.359870e+06</td>\n",
       "      <td>85000.0</td>\n",
       "      <td>1200000.0</td>\n",
       "      <td>1500000.0</td>\n",
       "      <td>2300000.0</td>\n",
       "      <td>7000000.0</td>\n",
       "    </tr>\n",
       "    <tr>\n",
       "      <th>data scientist</th>\n",
       "      <td>1130.0</td>\n",
       "      <td>2.668510e+06</td>\n",
       "      <td>1.494419e+06</td>\n",
       "      <td>115000.0</td>\n",
       "      <td>1780000.0</td>\n",
       "      <td>2200000.0</td>\n",
       "      <td>3000000.0</td>\n",
       "      <td>7000000.0</td>\n",
       "    </tr>\n",
       "    <tr>\n",
       "      <th>sdet</th>\n",
       "      <td>1091.0</td>\n",
       "      <td>1.811928e+06</td>\n",
       "      <td>1.277673e+06</td>\n",
       "      <td>400000.0</td>\n",
       "      <td>925000.0</td>\n",
       "      <td>1400000.0</td>\n",
       "      <td>2235000.0</td>\n",
       "      <td>7000000.0</td>\n",
       "    </tr>\n",
       "  </tbody>\n",
       "</table>\n",
       "</div>"
      ],
      "text/plain": [
       "                         count          mean           std       min  \\\n",
       "job_position                                                           \n",
       "Others                  8332.0  2.544821e+06  1.652757e+06  100000.0   \n",
       "backend engineer        8232.0  2.791761e+06  1.634072e+06  110000.0   \n",
       "fullstack engineer      4606.0  2.386272e+06  1.620837e+06   95000.0   \n",
       "other                   3401.0  2.632728e+06  2.096622e+06  100000.0   \n",
       "frontend engineer       1945.0  2.094382e+06  1.438352e+06  300000.0   \n",
       "engineering leadership  1433.0  4.434621e+06  1.536781e+06  200000.0   \n",
       "qa engineer             1344.0  2.015084e+06  1.543282e+06  200000.0   \n",
       "android engineer        1135.0  2.011853e+06  1.359870e+06   85000.0   \n",
       "data scientist          1130.0  2.668510e+06  1.494419e+06  115000.0   \n",
       "sdet                    1091.0  1.811928e+06  1.277673e+06  400000.0   \n",
       "\n",
       "                              25%        50%        75%        max  \n",
       "job_position                                                        \n",
       "Others                  1400000.0  2000000.0  3100000.0  7000000.0  \n",
       "backend engineer        1650000.0  2300000.0  3500000.0  7000000.0  \n",
       "fullstack engineer      1380000.0  1800000.0  2800000.0  7000000.0  \n",
       "other                   1200000.0  1800000.0  3160000.0  7000000.0  \n",
       "frontend engineer       1300000.0  1600000.0  2250000.0  7000000.0  \n",
       "engineering leadership  3400000.0  4100000.0  5500000.0  7000000.0  \n",
       "qa engineer             1000000.0  1450000.0  2580000.0  7000000.0  \n",
       "android engineer        1200000.0  1500000.0  2300000.0  7000000.0  \n",
       "data scientist          1780000.0  2200000.0  3000000.0  7000000.0  \n",
       "sdet                     925000.0  1400000.0  2235000.0  7000000.0  "
      ]
     },
     "execution_count": 114,
     "metadata": {},
     "output_type": "execute_result"
    }
   ],
   "source": [
    "# job position that has the highest class\n",
    "df_cj[df_cj['classs']==1][['job_position','ctc']].groupby('job_position')['ctc'].describe().sort_values(by=['count','mean'],ascending=False)[:10]"
   ]
  },
  {
   "cell_type": "code",
   "execution_count": 115,
   "metadata": {},
   "outputs": [
    {
     "data": {
      "text/plain": [
       "Index(['company_hash', 'orgyear', 'ctc', 'job_position', 'ctc_updated_year',\n",
       "       'yrs_exp', 'count', 'mean', 'std', 'min', '25%', '50%', '75%', 'max',\n",
       "       'designation'],\n",
       "      dtype='object')"
      ]
     },
     "execution_count": 115,
     "metadata": {},
     "output_type": "execute_result"
    }
   ],
   "source": [
    "df_y_j_c.columns"
   ]
  },
  {
   "cell_type": "code",
   "execution_count": 116,
   "metadata": {},
   "outputs": [],
   "source": [
    "df_cj.drop(columns=['count','mean','std','min','25%','50%','75%','max'],inplace=True)\n",
    "df_y_j_c.drop(columns=['count','mean','std','min','25%','50%','75%','max'],inplace=True)"
   ]
  },
  {
   "cell_type": "code",
   "execution_count": 117,
   "metadata": {},
   "outputs": [
    {
     "data": {
      "text/html": [
       "<div>\n",
       "<style scoped>\n",
       "    .dataframe tbody tr th:only-of-type {\n",
       "        vertical-align: middle;\n",
       "    }\n",
       "\n",
       "    .dataframe tbody tr th {\n",
       "        vertical-align: top;\n",
       "    }\n",
       "\n",
       "    .dataframe thead th {\n",
       "        text-align: right;\n",
       "    }\n",
       "</style>\n",
       "<table border=\"1\" class=\"dataframe\">\n",
       "  <thead>\n",
       "    <tr style=\"text-align: right;\">\n",
       "      <th></th>\n",
       "      <th>company_hash</th>\n",
       "      <th>orgyear</th>\n",
       "      <th>ctc</th>\n",
       "      <th>job_position</th>\n",
       "      <th>ctc_updated_year</th>\n",
       "      <th>yrs_exp</th>\n",
       "      <th>classs</th>\n",
       "      <th>designation</th>\n",
       "    </tr>\n",
       "  </thead>\n",
       "  <tbody>\n",
       "    <tr>\n",
       "      <th>0</th>\n",
       "      <td>ngpgutaxv</td>\n",
       "      <td>2017.0</td>\n",
       "      <td>700000.0</td>\n",
       "      <td>backend engineer</td>\n",
       "      <td>2019.0</td>\n",
       "      <td>5.0</td>\n",
       "      <td>3</td>\n",
       "      <td>3</td>\n",
       "    </tr>\n",
       "    <tr>\n",
       "      <th>1</th>\n",
       "      <td>vwwtznhqt ntwyzgrgsj</td>\n",
       "      <td>2019.0</td>\n",
       "      <td>400000.0</td>\n",
       "      <td>backend engineer</td>\n",
       "      <td>2019.0</td>\n",
       "      <td>3.0</td>\n",
       "      <td>3</td>\n",
       "      <td>3</td>\n",
       "    </tr>\n",
       "    <tr>\n",
       "      <th>2</th>\n",
       "      <td>Others</td>\n",
       "      <td>2019.0</td>\n",
       "      <td>360000.0</td>\n",
       "      <td>Others</td>\n",
       "      <td>2019.0</td>\n",
       "      <td>3.0</td>\n",
       "      <td>3</td>\n",
       "      <td>3</td>\n",
       "    </tr>\n",
       "    <tr>\n",
       "      <th>3</th>\n",
       "      <td>Others</td>\n",
       "      <td>2019.0</td>\n",
       "      <td>360000.0</td>\n",
       "      <td>Others</td>\n",
       "      <td>2019.0</td>\n",
       "      <td>3.0</td>\n",
       "      <td>3</td>\n",
       "      <td>3</td>\n",
       "    </tr>\n",
       "    <tr>\n",
       "      <th>4</th>\n",
       "      <td>Others</td>\n",
       "      <td>2019.0</td>\n",
       "      <td>360000.0</td>\n",
       "      <td>Others</td>\n",
       "      <td>2019.0</td>\n",
       "      <td>3.0</td>\n",
       "      <td>3</td>\n",
       "      <td>3</td>\n",
       "    </tr>\n",
       "    <tr>\n",
       "      <th>...</th>\n",
       "      <td>...</td>\n",
       "      <td>...</td>\n",
       "      <td>...</td>\n",
       "      <td>...</td>\n",
       "      <td>...</td>\n",
       "      <td>...</td>\n",
       "      <td>...</td>\n",
       "      <td>...</td>\n",
       "    </tr>\n",
       "    <tr>\n",
       "      <th>393901</th>\n",
       "      <td>vuurt xzw</td>\n",
       "      <td>2008.0</td>\n",
       "      <td>220000.0</td>\n",
       "      <td>Others</td>\n",
       "      <td>2019.0</td>\n",
       "      <td>14.0</td>\n",
       "      <td>3</td>\n",
       "      <td>2</td>\n",
       "    </tr>\n",
       "    <tr>\n",
       "      <th>393902</th>\n",
       "      <td>husqvawgb</td>\n",
       "      <td>2017.0</td>\n",
       "      <td>500000.0</td>\n",
       "      <td>Others</td>\n",
       "      <td>2020.0</td>\n",
       "      <td>5.0</td>\n",
       "      <td>3</td>\n",
       "      <td>3</td>\n",
       "    </tr>\n",
       "    <tr>\n",
       "      <th>393903</th>\n",
       "      <td>vwwgrxnt</td>\n",
       "      <td>2021.0</td>\n",
       "      <td>700000.0</td>\n",
       "      <td>Others</td>\n",
       "      <td>2021.0</td>\n",
       "      <td>1.0</td>\n",
       "      <td>3</td>\n",
       "      <td>3</td>\n",
       "    </tr>\n",
       "    <tr>\n",
       "      <th>393904</th>\n",
       "      <td>zgn vuurxwvmrt</td>\n",
       "      <td>2019.0</td>\n",
       "      <td>5100000.0</td>\n",
       "      <td>Others</td>\n",
       "      <td>2019.0</td>\n",
       "      <td>3.0</td>\n",
       "      <td>1</td>\n",
       "      <td>1</td>\n",
       "    </tr>\n",
       "    <tr>\n",
       "      <th>393905</th>\n",
       "      <td>bgqsvz onvzrtj</td>\n",
       "      <td>2014.0</td>\n",
       "      <td>1240000.0</td>\n",
       "      <td>Others</td>\n",
       "      <td>2016.0</td>\n",
       "      <td>8.0</td>\n",
       "      <td>3</td>\n",
       "      <td>3</td>\n",
       "    </tr>\n",
       "  </tbody>\n",
       "</table>\n",
       "<p>393906 rows × 8 columns</p>\n",
       "</div>"
      ],
      "text/plain": [
       "                company_hash  orgyear        ctc      job_position  \\\n",
       "0                  ngpgutaxv   2017.0   700000.0  backend engineer   \n",
       "1       vwwtznhqt ntwyzgrgsj   2019.0   400000.0  backend engineer   \n",
       "2                     Others   2019.0   360000.0            Others   \n",
       "3                     Others   2019.0   360000.0            Others   \n",
       "4                     Others   2019.0   360000.0            Others   \n",
       "...                      ...      ...        ...               ...   \n",
       "393901             vuurt xzw   2008.0   220000.0            Others   \n",
       "393902             husqvawgb   2017.0   500000.0            Others   \n",
       "393903              vwwgrxnt   2021.0   700000.0            Others   \n",
       "393904        zgn vuurxwvmrt   2019.0  5100000.0            Others   \n",
       "393905        bgqsvz onvzrtj   2014.0  1240000.0            Others   \n",
       "\n",
       "        ctc_updated_year  yrs_exp  classs  designation  \n",
       "0                 2019.0      5.0       3            3  \n",
       "1                 2019.0      3.0       3            3  \n",
       "2                 2019.0      3.0       3            3  \n",
       "3                 2019.0      3.0       3            3  \n",
       "4                 2019.0      3.0       3            3  \n",
       "...                  ...      ...     ...          ...  \n",
       "393901            2019.0     14.0       3            2  \n",
       "393902            2020.0      5.0       3            3  \n",
       "393903            2021.0      1.0       3            3  \n",
       "393904            2019.0      3.0       1            1  \n",
       "393905            2016.0      8.0       3            3  \n",
       "\n",
       "[393906 rows x 8 columns]"
      ]
     },
     "execution_count": 117,
     "metadata": {},
     "output_type": "execute_result"
    }
   ],
   "source": [
    "df_cjy_cj=df_cj.merge(df_y_j_c, on=['company_hash','orgyear','ctc','job_position','yrs_exp','ctc_updated_year'], how='left')\n",
    "df_cjy_cj"
   ]
  },
  {
   "attachments": {},
   "cell_type": "markdown",
   "metadata": {},
   "source": [
    "### Creating Tier basis on the salary in the companies"
   ]
  },
  {
   "cell_type": "code",
   "execution_count": 118,
   "metadata": {},
   "outputs": [
    {
     "data": {
      "text/html": [
       "<div>\n",
       "<style scoped>\n",
       "    .dataframe tbody tr th:only-of-type {\n",
       "        vertical-align: middle;\n",
       "    }\n",
       "\n",
       "    .dataframe tbody tr th {\n",
       "        vertical-align: top;\n",
       "    }\n",
       "\n",
       "    .dataframe thead th {\n",
       "        text-align: right;\n",
       "    }\n",
       "</style>\n",
       "<table border=\"1\" class=\"dataframe\">\n",
       "  <thead>\n",
       "    <tr style=\"text-align: right;\">\n",
       "      <th></th>\n",
       "      <th>company_hash</th>\n",
       "      <th>orgyear</th>\n",
       "      <th>ctc</th>\n",
       "      <th>job_position</th>\n",
       "      <th>ctc_updated_year</th>\n",
       "      <th>yrs_exp</th>\n",
       "      <th>count</th>\n",
       "      <th>mean</th>\n",
       "      <th>std</th>\n",
       "      <th>min</th>\n",
       "      <th>25%</th>\n",
       "      <th>50%</th>\n",
       "      <th>75%</th>\n",
       "      <th>max</th>\n",
       "    </tr>\n",
       "  </thead>\n",
       "  <tbody>\n",
       "    <tr>\n",
       "      <th>0</th>\n",
       "      <td>ngpgutaxv</td>\n",
       "      <td>2017.0</td>\n",
       "      <td>700000.0</td>\n",
       "      <td>backend engineer</td>\n",
       "      <td>2019.0</td>\n",
       "      <td>5.0</td>\n",
       "      <td>53.0</td>\n",
       "      <td>1.710472e+06</td>\n",
       "      <td>945808.701665</td>\n",
       "      <td>200000.0</td>\n",
       "      <td>1100000.0</td>\n",
       "      <td>1450000.0</td>\n",
       "      <td>2000000.0</td>\n",
       "      <td>4700000.0</td>\n",
       "    </tr>\n",
       "    <tr>\n",
       "      <th>1</th>\n",
       "      <td>vwwtznhqt ntwyzgrgsj</td>\n",
       "      <td>2019.0</td>\n",
       "      <td>400000.0</td>\n",
       "      <td>backend engineer</td>\n",
       "      <td>2019.0</td>\n",
       "      <td>3.0</td>\n",
       "      <td>15.0</td>\n",
       "      <td>8.820000e+05</td>\n",
       "      <td>782415.673229</td>\n",
       "      <td>300000.0</td>\n",
       "      <td>425000.0</td>\n",
       "      <td>770000.0</td>\n",
       "      <td>1005000.0</td>\n",
       "      <td>3500000.0</td>\n",
       "    </tr>\n",
       "  </tbody>\n",
       "</table>\n",
       "</div>"
      ],
      "text/plain": [
       "           company_hash  orgyear       ctc      job_position  \\\n",
       "0             ngpgutaxv   2017.0  700000.0  backend engineer   \n",
       "1  vwwtznhqt ntwyzgrgsj   2019.0  400000.0  backend engineer   \n",
       "\n",
       "   ctc_updated_year  yrs_exp  count          mean            std       min  \\\n",
       "0            2019.0      5.0   53.0  1.710472e+06  945808.701665  200000.0   \n",
       "1            2019.0      3.0   15.0  8.820000e+05  782415.673229  300000.0   \n",
       "\n",
       "         25%        50%        75%        max  \n",
       "0  1100000.0  1450000.0  2000000.0  4700000.0  \n",
       "1   425000.0   770000.0  1005000.0  3500000.0  "
      ]
     },
     "execution_count": 118,
     "metadata": {},
     "output_type": "execute_result"
    }
   ],
   "source": [
    "grouped_c = df.groupby(['company_hash'])['ctc'].describe()\n",
    "df_c = df.merge(grouped_c, on=['company_hash'], how='left')\n",
    "df_c.head(2)"
   ]
  },
  {
   "cell_type": "code",
   "execution_count": 119,
   "metadata": {},
   "outputs": [
    {
     "data": {
      "text/html": [
       "<div>\n",
       "<style scoped>\n",
       "    .dataframe tbody tr th:only-of-type {\n",
       "        vertical-align: middle;\n",
       "    }\n",
       "\n",
       "    .dataframe tbody tr th {\n",
       "        vertical-align: top;\n",
       "    }\n",
       "\n",
       "    .dataframe thead th {\n",
       "        text-align: right;\n",
       "    }\n",
       "</style>\n",
       "<table border=\"1\" class=\"dataframe\">\n",
       "  <thead>\n",
       "    <tr style=\"text-align: right;\">\n",
       "      <th></th>\n",
       "      <th>company_hash</th>\n",
       "      <th>orgyear</th>\n",
       "      <th>ctc</th>\n",
       "      <th>job_position</th>\n",
       "      <th>ctc_updated_year</th>\n",
       "      <th>yrs_exp</th>\n",
       "      <th>count</th>\n",
       "      <th>mean</th>\n",
       "      <th>std</th>\n",
       "      <th>min</th>\n",
       "      <th>25%</th>\n",
       "      <th>50%</th>\n",
       "      <th>75%</th>\n",
       "      <th>max</th>\n",
       "      <th>tier</th>\n",
       "    </tr>\n",
       "  </thead>\n",
       "  <tbody>\n",
       "    <tr>\n",
       "      <th>0</th>\n",
       "      <td>ngpgutaxv</td>\n",
       "      <td>2017.0</td>\n",
       "      <td>700000.0</td>\n",
       "      <td>backend engineer</td>\n",
       "      <td>2019.0</td>\n",
       "      <td>5.0</td>\n",
       "      <td>53.0</td>\n",
       "      <td>1.710472e+06</td>\n",
       "      <td>9.458087e+05</td>\n",
       "      <td>200000.0</td>\n",
       "      <td>1100000.0</td>\n",
       "      <td>1450000.0</td>\n",
       "      <td>2000000.0</td>\n",
       "      <td>4700000.0</td>\n",
       "      <td>3</td>\n",
       "    </tr>\n",
       "    <tr>\n",
       "      <th>1</th>\n",
       "      <td>vwwtznhqt ntwyzgrgsj</td>\n",
       "      <td>2019.0</td>\n",
       "      <td>400000.0</td>\n",
       "      <td>backend engineer</td>\n",
       "      <td>2019.0</td>\n",
       "      <td>3.0</td>\n",
       "      <td>15.0</td>\n",
       "      <td>8.820000e+05</td>\n",
       "      <td>7.824157e+05</td>\n",
       "      <td>300000.0</td>\n",
       "      <td>425000.0</td>\n",
       "      <td>770000.0</td>\n",
       "      <td>1005000.0</td>\n",
       "      <td>3500000.0</td>\n",
       "      <td>3</td>\n",
       "    </tr>\n",
       "    <tr>\n",
       "      <th>2</th>\n",
       "      <td>Others</td>\n",
       "      <td>2019.0</td>\n",
       "      <td>360000.0</td>\n",
       "      <td>Others</td>\n",
       "      <td>2019.0</td>\n",
       "      <td>3.0</td>\n",
       "      <td>42040.0</td>\n",
       "      <td>1.193627e+06</td>\n",
       "      <td>1.321653e+06</td>\n",
       "      <td>80000.0</td>\n",
       "      <td>450000.0</td>\n",
       "      <td>800000.0</td>\n",
       "      <td>1400000.0</td>\n",
       "      <td>7000000.0</td>\n",
       "      <td>3</td>\n",
       "    </tr>\n",
       "    <tr>\n",
       "      <th>3</th>\n",
       "      <td>wgszxkvzn</td>\n",
       "      <td>2016.0</td>\n",
       "      <td>440000.0</td>\n",
       "      <td>data analyst</td>\n",
       "      <td>2020.0</td>\n",
       "      <td>6.0</td>\n",
       "      <td>2199.0</td>\n",
       "      <td>8.016315e+05</td>\n",
       "      <td>9.108555e+05</td>\n",
       "      <td>80000.0</td>\n",
       "      <td>400000.0</td>\n",
       "      <td>579000.0</td>\n",
       "      <td>830000.0</td>\n",
       "      <td>7000000.0</td>\n",
       "      <td>3</td>\n",
       "    </tr>\n",
       "    <tr>\n",
       "      <th>4</th>\n",
       "      <td>xznhxn</td>\n",
       "      <td>2016.0</td>\n",
       "      <td>440000.0</td>\n",
       "      <td>backend engineer</td>\n",
       "      <td>2019.0</td>\n",
       "      <td>6.0</td>\n",
       "      <td>202.0</td>\n",
       "      <td>2.764324e+06</td>\n",
       "      <td>1.627794e+06</td>\n",
       "      <td>80000.0</td>\n",
       "      <td>1800000.0</td>\n",
       "      <td>2500000.0</td>\n",
       "      <td>3500000.0</td>\n",
       "      <td>7000000.0</td>\n",
       "      <td>3</td>\n",
       "    </tr>\n",
       "  </tbody>\n",
       "</table>\n",
       "</div>"
      ],
      "text/plain": [
       "           company_hash  orgyear       ctc      job_position  \\\n",
       "0             ngpgutaxv   2017.0  700000.0  backend engineer   \n",
       "1  vwwtznhqt ntwyzgrgsj   2019.0  400000.0  backend engineer   \n",
       "2                Others   2019.0  360000.0            Others   \n",
       "3             wgszxkvzn   2016.0  440000.0      data analyst   \n",
       "4                xznhxn   2016.0  440000.0  backend engineer   \n",
       "\n",
       "   ctc_updated_year  yrs_exp    count          mean           std       min  \\\n",
       "0            2019.0      5.0     53.0  1.710472e+06  9.458087e+05  200000.0   \n",
       "1            2019.0      3.0     15.0  8.820000e+05  7.824157e+05  300000.0   \n",
       "2            2019.0      3.0  42040.0  1.193627e+06  1.321653e+06   80000.0   \n",
       "3            2020.0      6.0   2199.0  8.016315e+05  9.108555e+05   80000.0   \n",
       "4            2019.0      6.0    202.0  2.764324e+06  1.627794e+06   80000.0   \n",
       "\n",
       "         25%        50%        75%        max  tier  \n",
       "0  1100000.0  1450000.0  2000000.0  4700000.0     3  \n",
       "1   425000.0   770000.0  1005000.0  3500000.0     3  \n",
       "2   450000.0   800000.0  1400000.0  7000000.0     3  \n",
       "3   400000.0   579000.0   830000.0  7000000.0     3  \n",
       "4  1800000.0  2500000.0  3500000.0  7000000.0     3  "
      ]
     },
     "execution_count": 119,
     "metadata": {},
     "output_type": "execute_result"
    }
   ],
   "source": [
    "df_c['tier'] =df_c.apply(lambda x: segment(x['ctc'],x['50%'],x['75%']),axis=1)\n",
    "df_c.head(5)"
   ]
  },
  {
   "cell_type": "code",
   "execution_count": 120,
   "metadata": {},
   "outputs": [
    {
     "data": {
      "text/plain": [
       "3    0.482049\n",
       "2    0.273410\n",
       "1    0.244541\n",
       "Name: tier, dtype: float64"
      ]
     },
     "execution_count": 120,
     "metadata": {},
     "output_type": "execute_result"
    }
   ],
   "source": [
    "df_c[\"tier\"].value_counts(normalize=True)"
   ]
  },
  {
   "cell_type": "code",
   "execution_count": 121,
   "metadata": {},
   "outputs": [
    {
     "data": {
      "text/html": [
       "<div>\n",
       "<style scoped>\n",
       "    .dataframe tbody tr th:only-of-type {\n",
       "        vertical-align: middle;\n",
       "    }\n",
       "\n",
       "    .dataframe tbody tr th {\n",
       "        vertical-align: top;\n",
       "    }\n",
       "\n",
       "    .dataframe thead th {\n",
       "        text-align: right;\n",
       "    }\n",
       "</style>\n",
       "<table border=\"1\" class=\"dataframe\">\n",
       "  <thead>\n",
       "    <tr style=\"text-align: right;\">\n",
       "      <th></th>\n",
       "      <th>company_hash</th>\n",
       "      <th>orgyear</th>\n",
       "      <th>ctc</th>\n",
       "      <th>job_position</th>\n",
       "      <th>ctc_updated_year</th>\n",
       "      <th>yrs_exp</th>\n",
       "      <th>classs</th>\n",
       "      <th>designation</th>\n",
       "      <th>count</th>\n",
       "      <th>mean</th>\n",
       "      <th>std</th>\n",
       "      <th>min</th>\n",
       "      <th>25%</th>\n",
       "      <th>50%</th>\n",
       "      <th>75%</th>\n",
       "      <th>max</th>\n",
       "      <th>tier</th>\n",
       "    </tr>\n",
       "  </thead>\n",
       "  <tbody>\n",
       "    <tr>\n",
       "      <th>0</th>\n",
       "      <td>ngpgutaxv</td>\n",
       "      <td>2017.0</td>\n",
       "      <td>700000.0</td>\n",
       "      <td>backend engineer</td>\n",
       "      <td>2019.0</td>\n",
       "      <td>5.0</td>\n",
       "      <td>3</td>\n",
       "      <td>3</td>\n",
       "      <td>53.0</td>\n",
       "      <td>1.710472e+06</td>\n",
       "      <td>9.458087e+05</td>\n",
       "      <td>200000.0</td>\n",
       "      <td>1100000.0</td>\n",
       "      <td>1450000.0</td>\n",
       "      <td>2000000.0</td>\n",
       "      <td>4700000.0</td>\n",
       "      <td>3</td>\n",
       "    </tr>\n",
       "    <tr>\n",
       "      <th>1</th>\n",
       "      <td>vwwtznhqt ntwyzgrgsj</td>\n",
       "      <td>2019.0</td>\n",
       "      <td>400000.0</td>\n",
       "      <td>backend engineer</td>\n",
       "      <td>2019.0</td>\n",
       "      <td>3.0</td>\n",
       "      <td>3</td>\n",
       "      <td>3</td>\n",
       "      <td>15.0</td>\n",
       "      <td>8.820000e+05</td>\n",
       "      <td>7.824157e+05</td>\n",
       "      <td>300000.0</td>\n",
       "      <td>425000.0</td>\n",
       "      <td>770000.0</td>\n",
       "      <td>1005000.0</td>\n",
       "      <td>3500000.0</td>\n",
       "      <td>3</td>\n",
       "    </tr>\n",
       "    <tr>\n",
       "      <th>2</th>\n",
       "      <td>Others</td>\n",
       "      <td>2019.0</td>\n",
       "      <td>360000.0</td>\n",
       "      <td>Others</td>\n",
       "      <td>2019.0</td>\n",
       "      <td>3.0</td>\n",
       "      <td>3</td>\n",
       "      <td>3</td>\n",
       "      <td>42040.0</td>\n",
       "      <td>1.193627e+06</td>\n",
       "      <td>1.321653e+06</td>\n",
       "      <td>80000.0</td>\n",
       "      <td>450000.0</td>\n",
       "      <td>800000.0</td>\n",
       "      <td>1400000.0</td>\n",
       "      <td>7000000.0</td>\n",
       "      <td>3</td>\n",
       "    </tr>\n",
       "    <tr>\n",
       "      <th>3</th>\n",
       "      <td>Others</td>\n",
       "      <td>2019.0</td>\n",
       "      <td>360000.0</td>\n",
       "      <td>Others</td>\n",
       "      <td>2019.0</td>\n",
       "      <td>3.0</td>\n",
       "      <td>3</td>\n",
       "      <td>3</td>\n",
       "      <td>42040.0</td>\n",
       "      <td>1.193627e+06</td>\n",
       "      <td>1.321653e+06</td>\n",
       "      <td>80000.0</td>\n",
       "      <td>450000.0</td>\n",
       "      <td>800000.0</td>\n",
       "      <td>1400000.0</td>\n",
       "      <td>7000000.0</td>\n",
       "      <td>3</td>\n",
       "    </tr>\n",
       "    <tr>\n",
       "      <th>4</th>\n",
       "      <td>Others</td>\n",
       "      <td>2019.0</td>\n",
       "      <td>360000.0</td>\n",
       "      <td>Others</td>\n",
       "      <td>2019.0</td>\n",
       "      <td>3.0</td>\n",
       "      <td>3</td>\n",
       "      <td>3</td>\n",
       "      <td>42040.0</td>\n",
       "      <td>1.193627e+06</td>\n",
       "      <td>1.321653e+06</td>\n",
       "      <td>80000.0</td>\n",
       "      <td>450000.0</td>\n",
       "      <td>800000.0</td>\n",
       "      <td>1400000.0</td>\n",
       "      <td>7000000.0</td>\n",
       "      <td>3</td>\n",
       "    </tr>\n",
       "    <tr>\n",
       "      <th>5</th>\n",
       "      <td>Others</td>\n",
       "      <td>2019.0</td>\n",
       "      <td>360000.0</td>\n",
       "      <td>Others</td>\n",
       "      <td>2019.0</td>\n",
       "      <td>3.0</td>\n",
       "      <td>3</td>\n",
       "      <td>3</td>\n",
       "      <td>42040.0</td>\n",
       "      <td>1.193627e+06</td>\n",
       "      <td>1.321653e+06</td>\n",
       "      <td>80000.0</td>\n",
       "      <td>450000.0</td>\n",
       "      <td>800000.0</td>\n",
       "      <td>1400000.0</td>\n",
       "      <td>7000000.0</td>\n",
       "      <td>3</td>\n",
       "    </tr>\n",
       "    <tr>\n",
       "      <th>6</th>\n",
       "      <td>Others</td>\n",
       "      <td>2019.0</td>\n",
       "      <td>360000.0</td>\n",
       "      <td>Others</td>\n",
       "      <td>2019.0</td>\n",
       "      <td>3.0</td>\n",
       "      <td>3</td>\n",
       "      <td>3</td>\n",
       "      <td>42040.0</td>\n",
       "      <td>1.193627e+06</td>\n",
       "      <td>1.321653e+06</td>\n",
       "      <td>80000.0</td>\n",
       "      <td>450000.0</td>\n",
       "      <td>800000.0</td>\n",
       "      <td>1400000.0</td>\n",
       "      <td>7000000.0</td>\n",
       "      <td>3</td>\n",
       "    </tr>\n",
       "    <tr>\n",
       "      <th>7</th>\n",
       "      <td>Others</td>\n",
       "      <td>2019.0</td>\n",
       "      <td>360000.0</td>\n",
       "      <td>Others</td>\n",
       "      <td>2019.0</td>\n",
       "      <td>3.0</td>\n",
       "      <td>3</td>\n",
       "      <td>3</td>\n",
       "      <td>42040.0</td>\n",
       "      <td>1.193627e+06</td>\n",
       "      <td>1.321653e+06</td>\n",
       "      <td>80000.0</td>\n",
       "      <td>450000.0</td>\n",
       "      <td>800000.0</td>\n",
       "      <td>1400000.0</td>\n",
       "      <td>7000000.0</td>\n",
       "      <td>3</td>\n",
       "    </tr>\n",
       "    <tr>\n",
       "      <th>8</th>\n",
       "      <td>Others</td>\n",
       "      <td>2019.0</td>\n",
       "      <td>360000.0</td>\n",
       "      <td>Others</td>\n",
       "      <td>2019.0</td>\n",
       "      <td>3.0</td>\n",
       "      <td>3</td>\n",
       "      <td>3</td>\n",
       "      <td>42040.0</td>\n",
       "      <td>1.193627e+06</td>\n",
       "      <td>1.321653e+06</td>\n",
       "      <td>80000.0</td>\n",
       "      <td>450000.0</td>\n",
       "      <td>800000.0</td>\n",
       "      <td>1400000.0</td>\n",
       "      <td>7000000.0</td>\n",
       "      <td>3</td>\n",
       "    </tr>\n",
       "    <tr>\n",
       "      <th>9</th>\n",
       "      <td>Others</td>\n",
       "      <td>2019.0</td>\n",
       "      <td>360000.0</td>\n",
       "      <td>Others</td>\n",
       "      <td>2019.0</td>\n",
       "      <td>3.0</td>\n",
       "      <td>3</td>\n",
       "      <td>3</td>\n",
       "      <td>42040.0</td>\n",
       "      <td>1.193627e+06</td>\n",
       "      <td>1.321653e+06</td>\n",
       "      <td>80000.0</td>\n",
       "      <td>450000.0</td>\n",
       "      <td>800000.0</td>\n",
       "      <td>1400000.0</td>\n",
       "      <td>7000000.0</td>\n",
       "      <td>3</td>\n",
       "    </tr>\n",
       "  </tbody>\n",
       "</table>\n",
       "</div>"
      ],
      "text/plain": [
       "           company_hash  orgyear       ctc      job_position  \\\n",
       "0             ngpgutaxv   2017.0  700000.0  backend engineer   \n",
       "1  vwwtznhqt ntwyzgrgsj   2019.0  400000.0  backend engineer   \n",
       "2                Others   2019.0  360000.0            Others   \n",
       "3                Others   2019.0  360000.0            Others   \n",
       "4                Others   2019.0  360000.0            Others   \n",
       "5                Others   2019.0  360000.0            Others   \n",
       "6                Others   2019.0  360000.0            Others   \n",
       "7                Others   2019.0  360000.0            Others   \n",
       "8                Others   2019.0  360000.0            Others   \n",
       "9                Others   2019.0  360000.0            Others   \n",
       "\n",
       "   ctc_updated_year  yrs_exp  classs  designation    count          mean  \\\n",
       "0            2019.0      5.0       3            3     53.0  1.710472e+06   \n",
       "1            2019.0      3.0       3            3     15.0  8.820000e+05   \n",
       "2            2019.0      3.0       3            3  42040.0  1.193627e+06   \n",
       "3            2019.0      3.0       3            3  42040.0  1.193627e+06   \n",
       "4            2019.0      3.0       3            3  42040.0  1.193627e+06   \n",
       "5            2019.0      3.0       3            3  42040.0  1.193627e+06   \n",
       "6            2019.0      3.0       3            3  42040.0  1.193627e+06   \n",
       "7            2019.0      3.0       3            3  42040.0  1.193627e+06   \n",
       "8            2019.0      3.0       3            3  42040.0  1.193627e+06   \n",
       "9            2019.0      3.0       3            3  42040.0  1.193627e+06   \n",
       "\n",
       "            std       min        25%        50%        75%        max  tier  \n",
       "0  9.458087e+05  200000.0  1100000.0  1450000.0  2000000.0  4700000.0     3  \n",
       "1  7.824157e+05  300000.0   425000.0   770000.0  1005000.0  3500000.0     3  \n",
       "2  1.321653e+06   80000.0   450000.0   800000.0  1400000.0  7000000.0     3  \n",
       "3  1.321653e+06   80000.0   450000.0   800000.0  1400000.0  7000000.0     3  \n",
       "4  1.321653e+06   80000.0   450000.0   800000.0  1400000.0  7000000.0     3  \n",
       "5  1.321653e+06   80000.0   450000.0   800000.0  1400000.0  7000000.0     3  \n",
       "6  1.321653e+06   80000.0   450000.0   800000.0  1400000.0  7000000.0     3  \n",
       "7  1.321653e+06   80000.0   450000.0   800000.0  1400000.0  7000000.0     3  \n",
       "8  1.321653e+06   80000.0   450000.0   800000.0  1400000.0  7000000.0     3  \n",
       "9  1.321653e+06   80000.0   450000.0   800000.0  1400000.0  7000000.0     3  "
      ]
     },
     "execution_count": 121,
     "metadata": {},
     "output_type": "execute_result"
    }
   ],
   "source": [
    "df_cjy_cj_c=df_cjy_cj.merge(df_c, on=['company_hash','orgyear','ctc','job_position','yrs_exp','ctc_updated_year'], how='left')\n",
    "df_cjy_cj_c.head(10)"
   ]
  },
  {
   "cell_type": "code",
   "execution_count": 122,
   "metadata": {},
   "outputs": [
    {
     "data": {
      "text/html": [
       "<div>\n",
       "<style scoped>\n",
       "    .dataframe tbody tr th:only-of-type {\n",
       "        vertical-align: middle;\n",
       "    }\n",
       "\n",
       "    .dataframe tbody tr th {\n",
       "        vertical-align: top;\n",
       "    }\n",
       "\n",
       "    .dataframe thead th {\n",
       "        text-align: right;\n",
       "    }\n",
       "</style>\n",
       "<table border=\"1\" class=\"dataframe\">\n",
       "  <thead>\n",
       "    <tr style=\"text-align: right;\">\n",
       "      <th></th>\n",
       "      <th>company_hash</th>\n",
       "      <th>orgyear</th>\n",
       "      <th>ctc</th>\n",
       "      <th>job_position</th>\n",
       "      <th>ctc_updated_year</th>\n",
       "      <th>yrs_exp</th>\n",
       "      <th>classs</th>\n",
       "      <th>designation</th>\n",
       "      <th>tier</th>\n",
       "    </tr>\n",
       "  </thead>\n",
       "  <tbody>\n",
       "    <tr>\n",
       "      <th>0</th>\n",
       "      <td>ngpgutaxv</td>\n",
       "      <td>2017.0</td>\n",
       "      <td>700000.0</td>\n",
       "      <td>backend engineer</td>\n",
       "      <td>2019.0</td>\n",
       "      <td>5.0</td>\n",
       "      <td>3</td>\n",
       "      <td>3</td>\n",
       "      <td>3</td>\n",
       "    </tr>\n",
       "    <tr>\n",
       "      <th>1</th>\n",
       "      <td>vwwtznhqt ntwyzgrgsj</td>\n",
       "      <td>2019.0</td>\n",
       "      <td>400000.0</td>\n",
       "      <td>backend engineer</td>\n",
       "      <td>2019.0</td>\n",
       "      <td>3.0</td>\n",
       "      <td>3</td>\n",
       "      <td>3</td>\n",
       "      <td>3</td>\n",
       "    </tr>\n",
       "  </tbody>\n",
       "</table>\n",
       "</div>"
      ],
      "text/plain": [
       "           company_hash  orgyear       ctc      job_position  \\\n",
       "0             ngpgutaxv   2017.0  700000.0  backend engineer   \n",
       "1  vwwtznhqt ntwyzgrgsj   2019.0  400000.0  backend engineer   \n",
       "\n",
       "   ctc_updated_year  yrs_exp  classs  designation  tier  \n",
       "0            2019.0      5.0       3            3     3  \n",
       "1            2019.0      3.0       3            3     3  "
      ]
     },
     "execution_count": 122,
     "metadata": {},
     "output_type": "execute_result"
    }
   ],
   "source": [
    "df_cjy_cj_c.drop(columns=['count','mean','std','min','25%','50%','75%','max'],inplace=True)\n",
    "df_cjy_cj_c.head(2)"
   ]
  },
  {
   "cell_type": "code",
   "execution_count": null,
   "metadata": {},
   "outputs": [],
   "source": []
  },
  {
   "cell_type": "code",
   "execution_count": 124,
   "metadata": {},
   "outputs": [],
   "source": [
    "X = df_cjy_cj_c[['ctc', 'yrs_exp', 'classs', 'designation', 'tier']].copy()"
   ]
  },
  {
   "attachments": {},
   "cell_type": "markdown",
   "metadata": {},
   "source": [
    "#### Scaling data"
   ]
  },
  {
   "cell_type": "code",
   "execution_count": 125,
   "metadata": {},
   "outputs": [],
   "source": [
    "from sklearn.preprocessing import StandardScaler\n",
    "\n",
    "scaler = StandardScaler()\n",
    "scaler.fit(X)\n",
    "X_scl = pd.DataFrame(scaler.transform(X), columns=X.columns, index=X.index)"
   ]
  },
  {
   "cell_type": "code",
   "execution_count": null,
   "metadata": {},
   "outputs": [],
   "source": []
  },
  {
   "cell_type": "code",
   "execution_count": 126,
   "metadata": {},
   "outputs": [
    {
     "data": {
      "text/plain": [
       "(5168266, 5)"
      ]
     },
     "execution_count": 126,
     "metadata": {},
     "output_type": "execute_result"
    }
   ],
   "source": [
    "X_scl.shape"
   ]
  },
  {
   "attachments": {},
   "cell_type": "markdown",
   "metadata": {},
   "source": [
    "### Hierarchy Clustering"
   ]
  },
  {
   "cell_type": "code",
   "execution_count": 127,
   "metadata": {},
   "outputs": [
    {
     "data": {
      "text/plain": [
       "Text(0, 0.5, 'distance')"
      ]
     },
     "execution_count": 127,
     "metadata": {},
     "output_type": "execute_result"
    },
    {
     "data": {
      "image/png": "[encoded data removed]",
      "text/plain": [
       "<Figure size 1440x864 with 1 Axes>"
      ]
     },
     "metadata": {
      "needs_background": "light"
     },
     "output_type": "display_data"
    }
   ],
   "source": [
    "import scipy.cluster.hierarchy as sch\n",
    "import matplotlib.pyplot as plt\n",
    "\n",
    "sample = X_scl.sample(500)\n",
    "Z = sch.linkage(sample, method='ward')\n",
    "\n",
    "fig, ax = plt.subplots(figsize=(20, 12))\n",
    "sch.dendrogram(Z, labels=sample.index, ax=ax, color_threshold=2)\n",
    "plt.xticks(rotation=90)\n",
    "ax.set_ylabel('distance')"
   ]
  },
  {
   "attachments": {},
   "cell_type": "markdown",
   "metadata": {},
   "source": [
    "### Observation\n",
    "\n",
    "The above plot suggests there are about 3 clusters"
   ]
  },
  {
   "cell_type": "code",
   "execution_count": null,
   "metadata": {},
   "outputs": [],
   "source": []
  },
  {
   "attachments": {},
   "cell_type": "markdown",
   "metadata": {},
   "source": [
    "### Kmeans Cluster"
   ]
  },
  {
   "cell_type": "code",
   "execution_count": 130,
   "metadata": {},
   "outputs": [
    {
     "name": "stderr",
     "output_type": "stream",
     "text": [
      "C:\\Users\\Jay\\anaconda3\\lib\\site-packages\\sklearn\\cluster\\_kmeans.py:870: FutureWarning: The default value of `n_init` will change from 10 to 'auto' in 1.4. Set the value of `n_init` explicitly to suppress the warning\n",
      "  warnings.warn(\n"
     ]
    }
   ],
   "source": [
    "from sklearn.cluster import KMeans\n",
    "\n",
    "k = 4\n",
    "kmeans = KMeans(n_clusters=k)\n",
    "kmeans.fit(X_scl)\n",
    "labels = kmeans.predict(X_scl)"
   ]
  },
  {
   "cell_type": "code",
   "execution_count": null,
   "metadata": {},
   "outputs": [],
   "source": [
    "clusters = pd.DataFrame(X, columns=df.columns)\n",
    "clusters['label'] = kmeans.labels_\n",
    "clusters.head(3)"
   ]
  },
  {
   "cell_type": "code",
   "execution_count": 132,
   "metadata": {},
   "outputs": [
    {
     "name": "stderr",
     "output_type": "stream",
     "text": [
      "C:\\Users\\Jay\\anaconda3\\lib\\site-packages\\sklearn\\cluster\\_kmeans.py:870: FutureWarning: The default value of `n_init` will change from 10 to 'auto' in 1.4. Set the value of `n_init` explicitly to suppress the warning\n",
      "  warnings.warn(\n",
      "C:\\Users\\Jay\\anaconda3\\lib\\site-packages\\sklearn\\cluster\\_kmeans.py:870: FutureWarning: The default value of `n_init` will change from 10 to 'auto' in 1.4. Set the value of `n_init` explicitly to suppress the warning\n",
      "  warnings.warn(\n",
      "C:\\Users\\Jay\\anaconda3\\lib\\site-packages\\sklearn\\cluster\\_kmeans.py:870: FutureWarning: The default value of `n_init` will change from 10 to 'auto' in 1.4. Set the value of `n_init` explicitly to suppress the warning\n",
      "  warnings.warn(\n",
      "C:\\Users\\Jay\\anaconda3\\lib\\site-packages\\sklearn\\cluster\\_kmeans.py:870: FutureWarning: The default value of `n_init` will change from 10 to 'auto' in 1.4. Set the value of `n_init` explicitly to suppress the warning\n",
      "  warnings.warn(\n",
      "C:\\Users\\Jay\\anaconda3\\lib\\site-packages\\sklearn\\cluster\\_kmeans.py:870: FutureWarning: The default value of `n_init` will change from 10 to 'auto' in 1.4. Set the value of `n_init` explicitly to suppress the warning\n",
      "  warnings.warn(\n",
      "C:\\Users\\Jay\\anaconda3\\lib\\site-packages\\sklearn\\cluster\\_kmeans.py:870: FutureWarning: The default value of `n_init` will change from 10 to 'auto' in 1.4. Set the value of `n_init` explicitly to suppress the warning\n",
      "  warnings.warn(\n",
      "C:\\Users\\Jay\\anaconda3\\lib\\site-packages\\sklearn\\cluster\\_kmeans.py:870: FutureWarning: The default value of `n_init` will change from 10 to 'auto' in 1.4. Set the value of `n_init` explicitly to suppress the warning\n",
      "  warnings.warn(\n",
      "C:\\Users\\Jay\\anaconda3\\lib\\site-packages\\sklearn\\cluster\\_kmeans.py:870: FutureWarning: The default value of `n_init` will change from 10 to 'auto' in 1.4. Set the value of `n_init` explicitly to suppress the warning\n",
      "  warnings.warn(\n",
      "C:\\Users\\Jay\\anaconda3\\lib\\site-packages\\sklearn\\cluster\\_kmeans.py:870: FutureWarning: The default value of `n_init` will change from 10 to 'auto' in 1.4. Set the value of `n_init` explicitly to suppress the warning\n",
      "  warnings.warn(\n"
     ]
    }
   ],
   "source": [
    "wcss = []\n",
    "for k in range(1, 10):\n",
    "    model = KMeans(n_clusters = k)\n",
    "    model.fit(X_scl)\n",
    "    wcss.append(model.inertia_)\n",
    "\n",
    "    "
   ]
  },
  {
   "cell_type": "code",
   "execution_count": 133,
   "metadata": {},
   "outputs": [
    {
     "data": {
      "text/plain": [
       "[<matplotlib.lines.Line2D at 0x1f69492a1c0>]"
      ]
     },
     "execution_count": 133,
     "metadata": {},
     "output_type": "execute_result"
    },
    {
     "data": {
      "image/png": "[encoded data removed]",
      "text/plain": [
       "<Figure size 432x288 with 1 Axes>"
      ]
     },
     "metadata": {
      "needs_background": "light"
     },
     "output_type": "display_data"
    }
   ],
   "source": [
    "plt.plot(range(1, 10), wcss, '-o')"
   ]
  },
  {
   "attachments": {},
   "cell_type": "markdown",
   "metadata": {},
   "source": [
    "### Observation\n",
    "\n",
    "The elbow method suggest that there possibly 3 clusters"
   ]
  },
  {
   "cell_type": "code",
   "execution_count": null,
   "metadata": {},
   "outputs": [],
   "source": []
  },
  {
   "attachments": {},
   "cell_type": "markdown",
   "metadata": {},
   "source": [
    "### Insights and Recommendations\n",
    "\n",
    "Following metrics have given us 3 clusters on both the methods. LOt of jobs are grouped under others category\n",
    "\n",
    "In order to get a much detailed insights we need further analyze the data and need more processing under company names and other job category\n",
    "\n",
    "A lot of jobs are categorized under Other category which can potentially generalize a real picture of our clusters\n",
    "\n",
    "I believe we need to manually target encode the categories job position which are NAs with grouby filling other and na categories\n",
    "\n",
    "variables like job position and org year when paired with ctc plays important role in clustering the candidates and in current scenario it does not reflect a very good picture with many of these values generalised.\n",
    "\n",
    "We need to analyze the data again with more targeted imputation to get more perfect cluster"
   ]
  },
  {
   "cell_type": "code",
   "execution_count": null,
   "metadata": {},
   "outputs": [],
   "source": []
  },
  {
   "cell_type": "code",
   "execution_count": null,
   "metadata": {},
   "outputs": [],
   "source": []
  },
  {
   "cell_type": "code",
   "execution_count": null,
   "metadata": {},
   "outputs": [],
   "source": []
  },
  {
   "cell_type": "code",
   "execution_count": null,
   "metadata": {},
   "outputs": [],
   "source": []
  }
 ],
 "metadata": {
  "colab": {
   "provenance": []
  },
  "kernelspec": {
   "display_name": "Python 3 (ipykernel)",
   "language": "python",
   "name": "python3"
  },
  "language_info": {
   "codemirror_mode": {
    "name": "ipython",
    "version": 3
   },
   "file_extension": ".py",
   "mimetype": "text/x-python",
   "name": "python",
   "nbconvert_exporter": "python",
   "pygments_lexer": "ipython3",
   "version": "3.9.7"
  }
 },
 "nbformat": 4,
 "nbformat_minor": 1
}
